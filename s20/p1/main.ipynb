{
 "cells": [
  {
   "cell_type": "code",
   "execution_count": 1,
   "metadata": {},
   "outputs": [],
   "source": [
    "#P1\n",
    "#Submitter: jkmineau\n",
    "#Partner: mcwalsh3"
   ]
  },
  {
   "cell_type": "code",
   "execution_count": 2,
   "metadata": {},
   "outputs": [],
   "source": [
    "from git import Repo\n",
    "import pandas as pd\n",
    "from matplotlib import pyplot as plt\n",
    "import matplotlib\n",
    "from datetime import datetime\n",
    "import os\n",
    "from subprocess import check_output\n",
    "import json\n",
    "import random\n",
    "import string\n",
    "import time"
   ]
  },
  {
   "cell_type": "code",
   "execution_count": 3,
   "metadata": {},
   "outputs": [],
   "source": [
    "matplotlib.rcParams[\"font.size\"]=16"
   ]
  },
  {
   "cell_type": "code",
   "execution_count": 4,
   "metadata": {},
   "outputs": [
    {
     "data": {
      "text/plain": [
       "''"
      ]
     },
     "execution_count": 4,
     "metadata": {},
     "output_type": "execute_result"
    }
   ],
   "source": [
    "dirname = \"repo\"\n",
    "repo = Repo(dirname)\n",
    "repo.git.checkout(\"master\")"
   ]
  },
  {
   "cell_type": "code",
   "execution_count": 5,
   "metadata": {},
   "outputs": [
    {
     "data": {
      "text/plain": [
       "8"
      ]
     },
     "execution_count": 5,
     "metadata": {},
     "output_type": "execute_result"
    }
   ],
   "source": [
    "#Q1\n",
    "commits=list(repo.iter_commits('master'))\n",
    "commits.reverse()\n",
    "len(commits)"
   ]
  },
  {
   "cell_type": "code",
   "execution_count": 6,
   "metadata": {},
   "outputs": [
    {
     "data": {
      "text/plain": [
       "{'Ada': 3, 'Linus': 2, 'Steve': 3}"
      ]
     },
     "execution_count": 6,
     "metadata": {},
     "output_type": "execute_result"
    }
   ],
   "source": [
    "#Q2\n",
    "commit_authors={}\n",
    "for commit in commits:\n",
    "    if commit.author.name not in commit_authors:\n",
    "        commit_authors[commit.author.name]=1\n",
    "    else: commit_authors[commit.author.name]+=1\n",
    "commit_authors"
   ]
  },
  {
   "cell_type": "code",
   "execution_count": 7,
   "metadata": {},
   "outputs": [],
   "source": [
    "def get_ax():\n",
    "    ax = plt.subplot()\n",
    "    ax.spines[\"top\"].set_visible(False)\n",
    "    ax.spines[\"right\"].set_visible(False)\n",
    "    return ax"
   ]
  },
  {
   "cell_type": "code",
   "execution_count": 8,
   "metadata": {},
   "outputs": [
    {
     "data": {
      "text/plain": [
       "Ada      3\n",
       "Linus    2\n",
       "Steve    3\n",
       "dtype: int64"
      ]
     },
     "execution_count": 8,
     "metadata": {},
     "output_type": "execute_result"
    },
    {
     "data": {
      "image/png": "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\n",
      "text/plain": [
       "<Figure size 216x216 with 1 Axes>"
      ]
     },
     "metadata": {
      "needs_background": "light"
     },
     "output_type": "display_data"
    }
   ],
   "source": [
    "#Q3\n",
    "ax=get_ax()\n",
    "commit_a=pd.Series(commit_authors)\n",
    "commit_a.plot.bar(figsize=(3,3),color='0',ax=ax)\n",
    "ax.set_ylabel('Commit Count')\n",
    "commit_a"
   ]
  },
  {
   "cell_type": "code",
   "execution_count": 9,
   "metadata": {},
   "outputs": [
    {
     "data": {
      "text/plain": [
       "{'Steve'}"
      ]
     },
     "execution_count": 9,
     "metadata": {},
     "output_type": "execute_result"
    }
   ],
   "source": [
    "#Q4\n",
    "weekend_authors=set()\n",
    "for c in commits:\n",
    "    if datetime.weekday(datetime.fromtimestamp(c.authored_date))==6 or datetime.weekday(datetime.fromtimestamp(c.authored_date))==7:\n",
    "        weekend_authors.add(c.author.name)\n",
    "weekend_authors"
   ]
  },
  {
   "cell_type": "code",
   "execution_count": 10,
   "metadata": {
    "scrolled": true
   },
   "outputs": [
    {
     "data": {
      "text/html": [
       "<div>\n",
       "<style scoped>\n",
       "    .dataframe tbody tr th:only-of-type {\n",
       "        vertical-align: middle;\n",
       "    }\n",
       "\n",
       "    .dataframe tbody tr th {\n",
       "        vertical-align: top;\n",
       "    }\n",
       "\n",
       "    .dataframe thead th {\n",
       "        text-align: right;\n",
       "    }\n",
       "</style>\n",
       "<table border=\"1\" class=\"dataframe\">\n",
       "  <thead>\n",
       "    <tr style=\"text-align: right;\">\n",
       "      <th></th>\n",
       "      <th>days</th>\n",
       "      <th>lines</th>\n",
       "    </tr>\n",
       "  </thead>\n",
       "  <tbody>\n",
       "    <tr>\n",
       "      <th>0</th>\n",
       "      <td>0.000000</td>\n",
       "      <td>21</td>\n",
       "    </tr>\n",
       "    <tr>\n",
       "      <th>1</th>\n",
       "      <td>1.005046</td>\n",
       "      <td>35</td>\n",
       "    </tr>\n",
       "    <tr>\n",
       "      <th>2</th>\n",
       "      <td>3.880046</td>\n",
       "      <td>35</td>\n",
       "    </tr>\n",
       "    <tr>\n",
       "      <th>3</th>\n",
       "      <td>4.087963</td>\n",
       "      <td>39</td>\n",
       "    </tr>\n",
       "    <tr>\n",
       "      <th>4</th>\n",
       "      <td>5.921296</td>\n",
       "      <td>40</td>\n",
       "    </tr>\n",
       "    <tr>\n",
       "      <th>5</th>\n",
       "      <td>6.962963</td>\n",
       "      <td>40</td>\n",
       "    </tr>\n",
       "    <tr>\n",
       "      <th>6</th>\n",
       "      <td>9.171296</td>\n",
       "      <td>40</td>\n",
       "    </tr>\n",
       "    <tr>\n",
       "      <th>7</th>\n",
       "      <td>11.046296</td>\n",
       "      <td>43</td>\n",
       "    </tr>\n",
       "  </tbody>\n",
       "</table>\n",
       "</div>"
      ],
      "text/plain": [
       "        days  lines\n",
       "0   0.000000     21\n",
       "1   1.005046     35\n",
       "2   3.880046     35\n",
       "3   4.087963     39\n",
       "4   5.921296     40\n",
       "5   6.962963     40\n",
       "6   9.171296     40\n",
       "7  11.046296     43"
      ]
     },
     "execution_count": 10,
     "metadata": {},
     "output_type": "execute_result"
    }
   ],
   "source": [
    "#Q5\n",
    "init_time=datetime.fromtimestamp(commits[0].authored_date)\n",
    "l=[]\n",
    "for c in commits:\n",
    "    repo.git.checkout(c)\n",
    "    lines=len(open(os.path.join('repo','wc.py')).readlines())\n",
    "    days=(datetime.fromtimestamp(c.authored_date))-init_time\n",
    "    days=days.total_seconds()/(24*60*60)\n",
    "    l.append((days,lines))\n",
    "    open(os.path.join('repo','wc.py')).close()\n",
    "wc_over_time=pd.DataFrame(l,columns=['days','lines'])\n",
    "wc_over_time.sort_values('days', inplace=True,ignore_index=True)\n",
    "wc_over_time"
   ]
  },
  {
   "cell_type": "code",
   "execution_count": 11,
   "metadata": {},
   "outputs": [
    {
     "data": {
      "text/plain": [
       "Text(0.5, 0, 'Days Since Creation')"
      ]
     },
     "execution_count": 11,
     "metadata": {},
     "output_type": "execute_result"
    },
    {
     "data": {
      "image/png": "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\n",
      "text/plain": [
       "<Figure size 432x288 with 1 Axes>"
      ]
     },
     "metadata": {
      "needs_background": "light"
     },
     "output_type": "display_data"
    }
   ],
   "source": [
    "#Q6\n",
    "ax=get_ax()\n",
    "wc_over_time.plot.line(x='days',y='lines',ax=ax,ylim=0,xlim=0,legend=False,c='red')\n",
    "ax.set_ylabel('Lines of Code in Repo')\n",
    "ax.set_xlabel('Days Since Creation')"
   ]
  },
  {
   "cell_type": "code",
   "execution_count": 12,
   "metadata": {},
   "outputs": [],
   "source": [
    "def run_wc(body, commit=None):\n",
    "    filename='test.txt'\n",
    "    f=open(filename,'w')\n",
    "    f.write(body)\n",
    "    f.close()\n",
    "    if commit==None:\n",
    "        repo.git.checkout('master')\n",
    "    else:\n",
    "        repo.git.checkout(commit)\n",
    "    try:\n",
    "        output=check_output('python3 repo/wc.py test.txt ALL', shell=True, encoding='utf-8')\n",
    "        result=json.loads(output)\n",
    "        return result\n",
    "    except:\n",
    "        return None"
   ]
  },
  {
   "cell_type": "code",
   "execution_count": 13,
   "metadata": {},
   "outputs": [],
   "source": [
    "# test inputs to exercise wc.py\n",
    "\n",
    "# expected result: {'X': 1, 'Y': 1, 'Z': 1}\n",
    "test1 = \"\"\"X Y Z\"\"\"\n",
    "\n",
    "# expected result: \n",
    "test2 = \"\"\"A B\n",
    "A C\n",
    "\"\"\"\n",
    "\n",
    "# expected result: {'A': 2, 'B': 1, 'C': 1}\n",
    "test3 = \"\"\"A B\n",
    "a c\n",
    "\"\"\""
   ]
  },
  {
   "cell_type": "code",
   "execution_count": 14,
   "metadata": {
    "scrolled": true
   },
   "outputs": [
    {
     "data": {
      "text/plain": [
       "{'X': 1, 'Y': 1, 'Z': 1}"
      ]
     },
     "execution_count": 14,
     "metadata": {},
     "output_type": "execute_result"
    }
   ],
   "source": [
    "#Q7\n",
    "run_wc(test1)"
   ]
  },
  {
   "cell_type": "code",
   "execution_count": 15,
   "metadata": {},
   "outputs": [
    {
     "data": {
      "text/plain": [
       "{'A': 2, 'B': 1, 'C': 1}"
      ]
     },
     "execution_count": 15,
     "metadata": {},
     "output_type": "execute_result"
    }
   ],
   "source": [
    "#Q8\n",
    "run_wc(test3)"
   ]
  },
  {
   "cell_type": "code",
   "execution_count": 16,
   "metadata": {},
   "outputs": [],
   "source": [
    "def test_table(body, expected):\n",
    "    rows=[]\n",
    "    for commit in commits:\n",
    "        row=[]\n",
    "        chex=commit.hexsha\n",
    "        message=commit.message[:20].strip('\\n')\n",
    "        author=commit.author.name\n",
    "        cpass=(expected==run_wc(body,commit))\n",
    "        row.extend([chex,message,author,cpass])\n",
    "        rows.append(row)\n",
    "    return pd.DataFrame(rows,columns=['commit','msg20','author','pass'])        "
   ]
  },
  {
   "cell_type": "code",
   "execution_count": 17,
   "metadata": {},
   "outputs": [
    {
     "data": {
      "text/html": [
       "<div>\n",
       "<style scoped>\n",
       "    .dataframe tbody tr th:only-of-type {\n",
       "        vertical-align: middle;\n",
       "    }\n",
       "\n",
       "    .dataframe tbody tr th {\n",
       "        vertical-align: top;\n",
       "    }\n",
       "\n",
       "    .dataframe thead th {\n",
       "        text-align: right;\n",
       "    }\n",
       "</style>\n",
       "<table border=\"1\" class=\"dataframe\">\n",
       "  <thead>\n",
       "    <tr style=\"text-align: right;\">\n",
       "      <th></th>\n",
       "      <th>commit</th>\n",
       "      <th>msg20</th>\n",
       "      <th>author</th>\n",
       "      <th>pass</th>\n",
       "    </tr>\n",
       "  </thead>\n",
       "  <tbody>\n",
       "    <tr>\n",
       "      <th>0</th>\n",
       "      <td>6d7beafb8e79b7a92fed8e67673a33bb7f607dbe</td>\n",
       "      <td>count a specific wor</td>\n",
       "      <td>Ada</td>\n",
       "      <td>False</td>\n",
       "    </tr>\n",
       "    <tr>\n",
       "      <th>1</th>\n",
       "      <td>b0df6dbe111f9e28fc3a9c9b841cde5c20c365f9</td>\n",
       "      <td>support wildcards</td>\n",
       "      <td>Linus</td>\n",
       "      <td>True</td>\n",
       "    </tr>\n",
       "    <tr>\n",
       "      <th>2</th>\n",
       "      <td>761627a3ad9ee681f27211326e9149f01764ceee</td>\n",
       "      <td>bugfix</td>\n",
       "      <td>Linus</td>\n",
       "      <td>True</td>\n",
       "    </tr>\n",
       "    <tr>\n",
       "      <th>3</th>\n",
       "      <td>6f5ca9327e986315ffcacddce5d9d6195c0913b7</td>\n",
       "      <td>ignore case, usage l</td>\n",
       "      <td>Ada</td>\n",
       "      <td>True</td>\n",
       "    </tr>\n",
       "    <tr>\n",
       "      <th>4</th>\n",
       "      <td>f37e610ce055a3d894baac2d9449e6eb77c72320</td>\n",
       "      <td>do not repeatedly re</td>\n",
       "      <td>Steve</td>\n",
       "      <td>True</td>\n",
       "    </tr>\n",
       "    <tr>\n",
       "      <th>5</th>\n",
       "      <td>c10b5a6cb4f06c96f6f221df2d5ec33af767d5c5</td>\n",
       "      <td>optimize: only compu</td>\n",
       "      <td>Ada</td>\n",
       "      <td>True</td>\n",
       "    </tr>\n",
       "    <tr>\n",
       "      <th>6</th>\n",
       "      <td>f637df3f45bc389e1035cc3aadcf5d81a55f0dc4</td>\n",
       "      <td>only make one pass o</td>\n",
       "      <td>Steve</td>\n",
       "      <td>False</td>\n",
       "    </tr>\n",
       "    <tr>\n",
       "      <th>7</th>\n",
       "      <td>4e4128313b8d5b5e5d04f2e8e585f64f7c5831a4</td>\n",
       "      <td>only make one pass o</td>\n",
       "      <td>Steve</td>\n",
       "      <td>True</td>\n",
       "    </tr>\n",
       "  </tbody>\n",
       "</table>\n",
       "</div>"
      ],
      "text/plain": [
       "                                     commit                 msg20 author  \\\n",
       "0  6d7beafb8e79b7a92fed8e67673a33bb7f607dbe  count a specific wor    Ada   \n",
       "1  b0df6dbe111f9e28fc3a9c9b841cde5c20c365f9     support wildcards  Linus   \n",
       "2  761627a3ad9ee681f27211326e9149f01764ceee                bugfix  Linus   \n",
       "3  6f5ca9327e986315ffcacddce5d9d6195c0913b7  ignore case, usage l    Ada   \n",
       "4  f37e610ce055a3d894baac2d9449e6eb77c72320  do not repeatedly re  Steve   \n",
       "5  c10b5a6cb4f06c96f6f221df2d5ec33af767d5c5  optimize: only compu    Ada   \n",
       "6  f637df3f45bc389e1035cc3aadcf5d81a55f0dc4  only make one pass o  Steve   \n",
       "7  4e4128313b8d5b5e5d04f2e8e585f64f7c5831a4  only make one pass o  Steve   \n",
       "\n",
       "    pass  \n",
       "0  False  \n",
       "1   True  \n",
       "2   True  \n",
       "3   True  \n",
       "4   True  \n",
       "5   True  \n",
       "6  False  \n",
       "7   True  "
      ]
     },
     "execution_count": 17,
     "metadata": {},
     "output_type": "execute_result"
    }
   ],
   "source": [
    "#Q9\n",
    "test_table(test1, {'X': 1, 'Y': 1, 'Z': 1})"
   ]
  },
  {
   "cell_type": "code",
   "execution_count": 18,
   "metadata": {},
   "outputs": [
    {
     "data": {
      "text/html": [
       "<div>\n",
       "<style scoped>\n",
       "    .dataframe tbody tr th:only-of-type {\n",
       "        vertical-align: middle;\n",
       "    }\n",
       "\n",
       "    .dataframe tbody tr th {\n",
       "        vertical-align: top;\n",
       "    }\n",
       "\n",
       "    .dataframe thead th {\n",
       "        text-align: right;\n",
       "    }\n",
       "</style>\n",
       "<table border=\"1\" class=\"dataframe\">\n",
       "  <thead>\n",
       "    <tr style=\"text-align: right;\">\n",
       "      <th></th>\n",
       "      <th>commit</th>\n",
       "      <th>msg20</th>\n",
       "      <th>author</th>\n",
       "      <th>pass</th>\n",
       "    </tr>\n",
       "  </thead>\n",
       "  <tbody>\n",
       "    <tr>\n",
       "      <th>0</th>\n",
       "      <td>6d7beafb8e79b7a92fed8e67673a33bb7f607dbe</td>\n",
       "      <td>count a specific wor</td>\n",
       "      <td>Ada</td>\n",
       "      <td>False</td>\n",
       "    </tr>\n",
       "    <tr>\n",
       "      <th>1</th>\n",
       "      <td>b0df6dbe111f9e28fc3a9c9b841cde5c20c365f9</td>\n",
       "      <td>support wildcards</td>\n",
       "      <td>Linus</td>\n",
       "      <td>False</td>\n",
       "    </tr>\n",
       "    <tr>\n",
       "      <th>2</th>\n",
       "      <td>761627a3ad9ee681f27211326e9149f01764ceee</td>\n",
       "      <td>bugfix</td>\n",
       "      <td>Linus</td>\n",
       "      <td>True</td>\n",
       "    </tr>\n",
       "    <tr>\n",
       "      <th>3</th>\n",
       "      <td>6f5ca9327e986315ffcacddce5d9d6195c0913b7</td>\n",
       "      <td>ignore case, usage l</td>\n",
       "      <td>Ada</td>\n",
       "      <td>True</td>\n",
       "    </tr>\n",
       "    <tr>\n",
       "      <th>4</th>\n",
       "      <td>f37e610ce055a3d894baac2d9449e6eb77c72320</td>\n",
       "      <td>do not repeatedly re</td>\n",
       "      <td>Steve</td>\n",
       "      <td>True</td>\n",
       "    </tr>\n",
       "    <tr>\n",
       "      <th>5</th>\n",
       "      <td>c10b5a6cb4f06c96f6f221df2d5ec33af767d5c5</td>\n",
       "      <td>optimize: only compu</td>\n",
       "      <td>Ada</td>\n",
       "      <td>True</td>\n",
       "    </tr>\n",
       "    <tr>\n",
       "      <th>6</th>\n",
       "      <td>f637df3f45bc389e1035cc3aadcf5d81a55f0dc4</td>\n",
       "      <td>only make one pass o</td>\n",
       "      <td>Steve</td>\n",
       "      <td>False</td>\n",
       "    </tr>\n",
       "    <tr>\n",
       "      <th>7</th>\n",
       "      <td>4e4128313b8d5b5e5d04f2e8e585f64f7c5831a4</td>\n",
       "      <td>only make one pass o</td>\n",
       "      <td>Steve</td>\n",
       "      <td>True</td>\n",
       "    </tr>\n",
       "  </tbody>\n",
       "</table>\n",
       "</div>"
      ],
      "text/plain": [
       "                                     commit                 msg20 author  \\\n",
       "0  6d7beafb8e79b7a92fed8e67673a33bb7f607dbe  count a specific wor    Ada   \n",
       "1  b0df6dbe111f9e28fc3a9c9b841cde5c20c365f9     support wildcards  Linus   \n",
       "2  761627a3ad9ee681f27211326e9149f01764ceee                bugfix  Linus   \n",
       "3  6f5ca9327e986315ffcacddce5d9d6195c0913b7  ignore case, usage l    Ada   \n",
       "4  f37e610ce055a3d894baac2d9449e6eb77c72320  do not repeatedly re  Steve   \n",
       "5  c10b5a6cb4f06c96f6f221df2d5ec33af767d5c5  optimize: only compu    Ada   \n",
       "6  f637df3f45bc389e1035cc3aadcf5d81a55f0dc4  only make one pass o  Steve   \n",
       "7  4e4128313b8d5b5e5d04f2e8e585f64f7c5831a4  only make one pass o  Steve   \n",
       "\n",
       "    pass  \n",
       "0  False  \n",
       "1  False  \n",
       "2   True  \n",
       "3   True  \n",
       "4   True  \n",
       "5   True  \n",
       "6  False  \n",
       "7   True  "
      ]
     },
     "execution_count": 18,
     "metadata": {},
     "output_type": "execute_result"
    }
   ],
   "source": [
    "#Q10\n",
    "test_table(test2, {'A': 2, 'B': 1, 'C': 1})"
   ]
  },
  {
   "cell_type": "code",
   "execution_count": 19,
   "metadata": {},
   "outputs": [
    {
     "data": {
      "text/html": [
       "<div>\n",
       "<style scoped>\n",
       "    .dataframe tbody tr th:only-of-type {\n",
       "        vertical-align: middle;\n",
       "    }\n",
       "\n",
       "    .dataframe tbody tr th {\n",
       "        vertical-align: top;\n",
       "    }\n",
       "\n",
       "    .dataframe thead th {\n",
       "        text-align: right;\n",
       "    }\n",
       "</style>\n",
       "<table border=\"1\" class=\"dataframe\">\n",
       "  <thead>\n",
       "    <tr style=\"text-align: right;\">\n",
       "      <th></th>\n",
       "      <th>commit</th>\n",
       "      <th>msg20</th>\n",
       "      <th>author</th>\n",
       "      <th>pass</th>\n",
       "    </tr>\n",
       "  </thead>\n",
       "  <tbody>\n",
       "    <tr>\n",
       "      <th>0</th>\n",
       "      <td>6d7beafb8e79b7a92fed8e67673a33bb7f607dbe</td>\n",
       "      <td>count a specific wor</td>\n",
       "      <td>Ada</td>\n",
       "      <td>False</td>\n",
       "    </tr>\n",
       "    <tr>\n",
       "      <th>1</th>\n",
       "      <td>b0df6dbe111f9e28fc3a9c9b841cde5c20c365f9</td>\n",
       "      <td>support wildcards</td>\n",
       "      <td>Linus</td>\n",
       "      <td>False</td>\n",
       "    </tr>\n",
       "    <tr>\n",
       "      <th>2</th>\n",
       "      <td>761627a3ad9ee681f27211326e9149f01764ceee</td>\n",
       "      <td>bugfix</td>\n",
       "      <td>Linus</td>\n",
       "      <td>False</td>\n",
       "    </tr>\n",
       "    <tr>\n",
       "      <th>3</th>\n",
       "      <td>6f5ca9327e986315ffcacddce5d9d6195c0913b7</td>\n",
       "      <td>ignore case, usage l</td>\n",
       "      <td>Ada</td>\n",
       "      <td>True</td>\n",
       "    </tr>\n",
       "    <tr>\n",
       "      <th>4</th>\n",
       "      <td>f37e610ce055a3d894baac2d9449e6eb77c72320</td>\n",
       "      <td>do not repeatedly re</td>\n",
       "      <td>Steve</td>\n",
       "      <td>True</td>\n",
       "    </tr>\n",
       "    <tr>\n",
       "      <th>5</th>\n",
       "      <td>c10b5a6cb4f06c96f6f221df2d5ec33af767d5c5</td>\n",
       "      <td>optimize: only compu</td>\n",
       "      <td>Ada</td>\n",
       "      <td>True</td>\n",
       "    </tr>\n",
       "    <tr>\n",
       "      <th>6</th>\n",
       "      <td>f637df3f45bc389e1035cc3aadcf5d81a55f0dc4</td>\n",
       "      <td>only make one pass o</td>\n",
       "      <td>Steve</td>\n",
       "      <td>False</td>\n",
       "    </tr>\n",
       "    <tr>\n",
       "      <th>7</th>\n",
       "      <td>4e4128313b8d5b5e5d04f2e8e585f64f7c5831a4</td>\n",
       "      <td>only make one pass o</td>\n",
       "      <td>Steve</td>\n",
       "      <td>True</td>\n",
       "    </tr>\n",
       "  </tbody>\n",
       "</table>\n",
       "</div>"
      ],
      "text/plain": [
       "                                     commit                 msg20 author  \\\n",
       "0  6d7beafb8e79b7a92fed8e67673a33bb7f607dbe  count a specific wor    Ada   \n",
       "1  b0df6dbe111f9e28fc3a9c9b841cde5c20c365f9     support wildcards  Linus   \n",
       "2  761627a3ad9ee681f27211326e9149f01764ceee                bugfix  Linus   \n",
       "3  6f5ca9327e986315ffcacddce5d9d6195c0913b7  ignore case, usage l    Ada   \n",
       "4  f37e610ce055a3d894baac2d9449e6eb77c72320  do not repeatedly re  Steve   \n",
       "5  c10b5a6cb4f06c96f6f221df2d5ec33af767d5c5  optimize: only compu    Ada   \n",
       "6  f637df3f45bc389e1035cc3aadcf5d81a55f0dc4  only make one pass o  Steve   \n",
       "7  4e4128313b8d5b5e5d04f2e8e585f64f7c5831a4  only make one pass o  Steve   \n",
       "\n",
       "    pass  \n",
       "0  False  \n",
       "1  False  \n",
       "2  False  \n",
       "3   True  \n",
       "4   True  \n",
       "5   True  \n",
       "6  False  \n",
       "7   True  "
      ]
     },
     "execution_count": 19,
     "metadata": {},
     "output_type": "execute_result"
    }
   ],
   "source": [
    "#Q11\n",
    "test_table(test3, {'A': 2, 'B': 1, 'C': 1})"
   ]
  },
  {
   "cell_type": "code",
   "execution_count": 20,
   "metadata": {},
   "outputs": [],
   "source": [
    "#Test3 is the most useful because it contains upper and lowercase isntances of the same character."
   ]
  },
  {
   "cell_type": "code",
   "execution_count": 21,
   "metadata": {},
   "outputs": [],
   "source": [
    "#found at https://www.dev2qa.com/python-generate-random-string-of-specific-length/\n",
    "\n",
    "def generate_random_string(base_string_character, string_size=10):\n",
    "    ret_str = ''\n",
    "    # Select random character for string_size times.\n",
    "    for i in range(string_size):\n",
    "        # Random select one character from the base character string.\n",
    "        character = random.choice(base_string_character)\n",
    "        # Append the selected character to the return string.\n",
    "        ret_str += character\n",
    "    return ret_str\n",
    "def generate_random_alphabet(str_len=10):\n",
    "    ret = generate_random_string(string.ascii_letters, str_len)\n",
    "    return ret"
   ]
  },
  {
   "cell_type": "code",
   "execution_count": 22,
   "metadata": {},
   "outputs": [],
   "source": [
    "def time_run_sec(uniq_words, total_words, word_size=6, commit=None):\n",
    "    words_list=[]\n",
    "    string_input=''\n",
    "    for i in range(uniq_words):\n",
    "        words_list.append(generate_random_alphabet(word_size))\n",
    "    for i in range(total_words):\n",
    "        word=random.choice(words_list)\n",
    "        string_input+=(word+' ')\n",
    "    repo.git.checkout(commit)\n",
    "    t0=time.time()\n",
    "    run_wc(string_input,commit)\n",
    "    t1=time.time()\n",
    "    total_time=t1-t0\n",
    "    return total_time"
   ]
  },
  {
   "cell_type": "code",
   "execution_count": 23,
   "metadata": {},
   "outputs": [],
   "source": [
    "versions = {\n",
    "    \"v0-baseline\": \"6f5ca9327e986315ffcacddce5d9d6195c0913b7\",\n",
    "    \"v1-open-once\": \"f37e610ce055a3d894baac2d9449e6eb77c72320\",\n",
    "    \"v2-pass-per-uniq\": \"c10b5a6cb4f06c96f6f221df2d5ec33af767d5c5\",\n",
    "    \"v3-single-pass\": \"4e4128313b8d5b5e5d04f2e8e585f64f7c5831a4\",\n",
    "}"
   ]
  },
  {
   "cell_type": "code",
   "execution_count": 24,
   "metadata": {
    "scrolled": true
   },
   "outputs": [
    {
     "name": "stdout",
     "output_type": "stream",
     "text": [
<<<<<<< HEAD
      "6.230796813964844\n",
      "0.9543395042419434\n",
      "0.07009601593017578\n",
      "0.05365800857543945\n"
=======
      "6.017319440841675\n",
      "0.9300389289855957\n",
      "0.06083965301513672\n",
      "0.04397296905517578\n"
>>>>>>> dab6271141a6648d6432b432f5d29daa539c7dbc
     ]
    },
    {
     "data": {
      "text/plain": [
       "Text(0.5, 0, 'Exec Time (ms)')"
      ]
     },
     "execution_count": 24,
     "metadata": {},
     "output_type": "execute_result"
    },
    {
     "data": {
<<<<<<< HEAD
      "image/png": "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\n",
=======
      "image/png": "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\n",
>>>>>>> dab6271141a6648d6432b432f5d29daa539c7dbc
      "text/plain": [
       "<Figure size 288x144 with 1 Axes>"
      ]
     },
     "metadata": {
      "needs_background": "light"
     },
     "output_type": "display_data"
    }
   ],
   "source": [
    "#Q12\n",
    "dic={}\n",
    "for c in versions:\n",
    "    times=time_run_sec(100,5000,commit=versions[c])\n",
    "    dic[c]=times*10**3\n",
    "    print(times)\n",
    "time_for_versions=pd.Series(dic)\n",
    "time_for_versions.sort_values(inplace=True)\n",
    "ax=get_ax()\n",
    "time_for_versions.plot.barh(ax=ax, logx=True,figsize=(4,2), xticks=[10**1,10**2,10**3],color='0')\n",
    "ax.set_xlabel('Exec Time (ms)')"
   ]
  },
  {
   "cell_type": "code",
   "execution_count": 25,
   "metadata": {},
   "outputs": [
    {
     "name": "stdout",
     "output_type": "stream",
     "text": [
<<<<<<< HEAD
      "6.991027355194092\n",
      "1.737074613571167\n",
      "0.05322432518005371\n",
      "0.054625749588012695\n"
=======
      "6.713538646697998\n",
      "1.7174298763275146\n",
      "0.044335365295410156\n",
      "0.04503989219665527\n"
>>>>>>> dab6271141a6648d6432b432f5d29daa539c7dbc
     ]
    },
    {
     "data": {
      "text/plain": [
       "Text(0.5, 0, 'Exec Time (ms)')"
      ]
     },
     "execution_count": 25,
     "metadata": {},
     "output_type": "execute_result"
    },
    {
     "data": {
<<<<<<< HEAD
      "image/png": "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\n",
=======
      "image/png": "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\n",
>>>>>>> dab6271141a6648d6432b432f5d29daa539c7dbc
      "text/plain": [
       "<Figure size 288x144 with 1 Axes>"
      ]
     },
     "metadata": {
      "needs_background": "light"
     },
     "output_type": "display_data"
    }
   ],
   "source": [
    "#Q13\n",
    "dic={}\n",
    "for c in versions:\n",
    "    times=time_run_sec(1,5000,commit=versions[c])\n",
    "    dic[c]=times*10**3\n",
    "    print(times)\n",
    "time_for_versions=pd.Series(dic)\n",
    "time_for_versions.sort_values(inplace=True)\n",
    "ax=get_ax()\n",
    "time_for_versions.plot.barh(ax=ax, logx=True,color='0',figsize=(4,2), xticks=[10**1,10**2,10**3])\n",
    "ax.set_xlabel('Exec Time (ms)')"
   ]
  },
  {
   "cell_type": "code",
   "execution_count": 26,
   "metadata": {},
   "outputs": [],
   "source": [
    "#My hypothesis as to why V3 is better than V2 is that V3 doesn't search for unique words. \n",
    "#Instead it goes through the entire list. This might make it slower with extremely high total_words."
   ]
  },
  {
   "cell_type": "code",
   "execution_count": 75,
   "metadata": {},
   "outputs": [],
   "source": [
    "def table_builder(words,commit=None):\n",
    "    rows={}\n",
    "    rows['10']=[]\n",
    "    rows['5']=[]\n",
    "    rows['1']=[]\n",
    "    for word in words:\n",
    "        times=[]\n",
    "        ten=int(word*0.1)\n",
    "        five=int(word*0.05)\n",
    "        one=int(word*0.01)\n",
    "        rows['10'].append(time_run_sec(ten,word,commit=commit))\n",
    "        rows['5'].append(time_run_sec(five,word,commit=commit))\n",
    "        rows['1'].append(time_run_sec(one,word,commit=commit))\n",
    "    dataframe=pd.DataFrame(rows,index=words)\n",
    "    dataframe.index=dataframe.index.astype('int64')\n",
    "    dataframe.columns=dataframe.columns.astype('int64')\n",
    "    return dataframe"
   ]
  },
  {
   "cell_type": "code",
   "execution_count": 76,
   "metadata": {},
   "outputs": [
    {
     "data": {
      "text/plain": [
       "Text(0.5, 0, 'total words')"
      ]
     },
     "execution_count": 76,
     "metadata": {},
     "output_type": "execute_result"
    },
    {
     "data": {
      "image/png": "iVBORw0KGgoAAAANSUhEUgAAAusAAAElCAYAAABd86xkAAAABHNCSVQICAgIfAhkiAAAAAlwSFlzAAALEgAACxIB0t1+/AAAADh0RVh0U29mdHdhcmUAbWF0cGxvdGxpYiB2ZXJzaW9uMy4xLjIsIGh0dHA6Ly9tYXRwbG90bGliLm9yZy8li6FKAAAgAElEQVR4nOzdd5xcdb3/8ddnyrYkm7abEEJCCiAQWkIooSQBRbwWQIQrgoKooCJoBFH5yfUqomK5qCgdAUUQMaiAimAhhBYgIQkQanpCSNlskk3ZOvP9/XHO7k5mZ8tsZuZMeT95zGNmzpzy+S6z33nnu985x5xziIiIiIhI/gkFXYCIiIiIiKSmsC4iIiIikqcU1kVERERE8pTCuoiIiIhInlJYFxERERHJUwrrIiIiIiJ5SmFdJAPMbD8zc2Z2R9C1iIhIz9RnSyFRWJe8ZGa/9zvSs3pZ70B/vVdyVVu+M7MyMzvLzH5rZq+b2U4z225m88zsC2am33sRySj12XvGzM43s4fMbLmZ7TCzbWa22My+Y2ZDg65PgqUPbclXd/r3n+5lvQuT1g/KKuAg4OqA6wA4APgjcAbwBvBL4F5gLHAz8KCZWXDliUgRUp+9Z84B9gOeBm4C7gIagf8FFppZbYC1ScBMVzCVfOSP/q4A9gbGOOfWp1gnDKwBaoDRzrlNua0yP5nZWOCDwG+dc7sSlg8C5gJHAGc65/4cUIkiUmTUZ+8ZM6twzjWlWP4D4Crg+865fPmHheSYRtYlLznn4sDdQAT4VDerfQAYBTyS3Omb2fvM7FEzqzezJjN7zcy+bmaRpPU+5/9J9pNm9lF/qsgOM5vvvx72p47MN7MtZrbLzFaZ2Wwzm5ywn27nP5rZSWb2uJltNbNGM3vFzL6Wopb3+fu42syONrN/+dNXtprZg34I78vPbrVz7pbEoO4v3w5c7z+d0Zd9iYj0hfrs/vfZ/s+vS1D3zfbvJ/Z1X1J8FNYln90FOLr/s2rKP6ea2Szgn8Bk4C/AjcBO4EfAfd3s6zzgD8Ba4FfAE/7yn+JNHQnjfRD9EngGOB44prcGmNkngX/56z7gbx8BfgLM7mY6yjHAk0ATcCuwEDgT+KeZlfd2zF60+vdte7gfEZFk6rMz32d/yL9/dQ/3I4XMOaebbnl7A/6N1/kfnbR8ONAMvAOEE5YfhhdEnwWqE5YbXgfugDMSln/OX9YGnJji+A3A80AoaXkYGJrwfD9/P3ckLBsKbPdvByQsL8P7YHHAeQnL3+cvc8DHko53n7/8rD38eT7u7+f9Qf+/1U033Yrvpj6747V+9dnAJ4HvAP8HzPH38QIwKOj/t7oFd9PIuuS77r60dC5eB/pb51wsYfkX8DrlS51zDe0LnXMO+H/+03NSHGe2c+6pFMsd0OS8P/F2LnQu5pzb0kvtZwIDgducc28lbNuCNwcR4IIU2/3HOfdg0rL2n8NRvRyzW2Z2CXAK8Lhz7vH+7kdEpAfqsz397bM/ifel0svxpiv+A/ig86YxSomK9L6KSKD+BGwDzjGzrzrnmv3l3Z1R4BggDpxuZqel2F8TcGCK5fO7Of4DwOfMbAHwIN5Ix3y/8+7N4f79kylee96v5fAUry1IsWytfz+kD8ftwszOAH4BLAfO788+RET6QH22p199tnPuAwBmNhw4Fvgx8JKZneqcez2dfUnxUFiXvOacazSz3+ONvpwB/MHMDsOb2/i0c+7tpE2G4X0X49s97HZAimUbuln3EmAZ3ijR9/1lDWb2G+Aq59zOHo5T3d2+nXPOzDYAI1Ns15BiWfsc83APx0vJzD5C59zOk5xz3bVVRGSPqM/u0O8+2z/eZuBv5p2P/m3gFnRigJKlaTBSCJL/rNrTeXobgBhQ4Zyzbm77p9gu5TlMnXOtzrnrnHMH4p2n/ALgFeAy4IZe6m7vwFN17gAjSN3JZ4w/UjUb78PnZOfc6mweT0QE9dkZ4/fZbwLHmVk0l8eW/KGwLnnPOfci3jfh329m4/DOArAD78+dyV7AG8no99zuHupY45z7LfBeoB5I9SfbRIv8++nJL5jZ0UBlwjoZ5wf1PwIb8UbUV2TrWCIi7dRnZ9wovH+cxHpbUYqTwroUijvx3q/3ArXAA938OfMmvPmPN5rZqOQXzWwvM0s1/7ELM6s0s1Sn+qrG67S7Oy9uuz/jfUBdbGb7Jew3CvzQf/rbvtSSLjP7MF5Qr8ML6suycRwRkW6oz+4jM6tOPF7CcjOz7+BdROqfyV+aldKhOetSKH6Hd87d4/znKS9V7ZxbaGZfwfsy5Vtm9ne8q+oNA/YHTgS+CbzRh2MOAOaZ2evAS3hX3hsCnI7X8f+0p42dc1vM7IvAb4D5ZvYHvC9efQg4GHiI7s8h3G9mNgnvi1VleF+u+mSKUwO/5Jx7ONPHFhHxqc/uuxHAm2b2At6Ul3fxTnV5It6Xa9cBX8nCcaVAKKxLQXDObTKzR/BOrfWmc+6ZHtb9lZktpPPUVx/F+xPoCrzz197fx8M24J2u673ATLzRoc14f979nHPu732o+3dmts7fzzlAObAUuBL4uX96skwbhRfUwTtdWiq/BhTWRSQr1GenZQPwA+AkvKu8Dsf7K8DbwLXAz5xz9Vk4rhQIy877TkRERERE9pTmrIuIiIiI5CmFdRERERGRPKWwLiIiIiKSpxTWRURERETyVEmdDaampsaNGzcu6DJERNK2YMGCOudcbdB15JL6bBEpVJnss0sqrI8bN4758+cHXYaISNrMbFXQNeSa+mwRKVSZ7LM1DUZEREREJE8prIuIiIiI5CmFdRERERGRPKWwLiIiIiKSpxTWRURERETylMK6iIiIiEieyvmpG81sDPAz4BTAgH8Bs5xzq9PczzeBHwLPOOdOyHihIiIiIiWgubmZ+vp6tm/fTiwWC7qcvFZWVkZNTQ2DBw/O2TFzGtbNrAr4D9AMXAA44FrgCTM7zDm3s4/7mQBcDWzMVq0iItkwe8FahlRGed/BI4MuRUSE5uZmVq9ezdChQxk3bhzRaBQzC7qsvOSco7GxkbVr11JeXk5FRUVOjpvraTAXAROAM5xzf3HOPQScBuwLfD6N/dwM3Au8nvkSRUSyY/aCtVw5ezH3vbAa51zQ5YiIUF9fz9ChQ6mpqaGsrExBvQdmRlVVFTU1NWzatClnx811WD8NmOecW9q+wDm3AngGOL0vOzCzc4EpwFVZqVBEJAvag/rxE2u46bwp+kAUkbywfft2qqurgy6joAwaNIimpqacHS/XYX0S8GqK5UuAg3vb2MyG4s13/7pzrj7DtYmIZEViUL/jgqlURMNBlyQiAkAsFiMajQZdRkGJRCK0tbXl7Hi5DuvDgC0pltcDQ/uw/U+At4C7+3pAM7vYzOab2fxc/slCRAQU1NOlPlsk9/SXvvTk+udVMKduNLMTgfOBL7o0Jns6525zzk11zk2tra3NXoEiIkkU1NOnPltEZHe5PnXjFlKPoHc34p7oVuDXwFozG+IviwBh/3mjc645Y5WKiOwBBXUREcmEXI+sL8Gbt57sYOC1XrY9CPgCXqhvvx0PHOs//mLmyhQR6T8FdRGR4Kxdu5bLLruMadOmUVVVhZmxcuXKLus1NTVx5ZVXMmrUKCorK5k2bRpz587NfcG9yHVYfxg41j9POgBmNg4vdD/cy7YnpbgtxvvC6knA7MyXKyKSHgV1EZFgLV26lAceeIChQ4dy4okndrveZz/7WW6//XauueYa/vrXvzJq1ChOPfVUFi1alMNqe5fraTC3A5cCD5nZ1XgXRfoesAZvmgsAZrYvsAy4xjl3DYBzbk7yzsxsKxBJ9ZqISK4pqIuIBG/69Ols2LABgDvuuIPHH3+8yzqLFy/mvvvu48477+TCCy8EYMaMGUyaNIlvf/vbPPxwb2PIuZPTkXX/CqUn453R5R68CxutAE52zu1IWNWAcK7rExHprwcV1EVE8kIo1Ht8fPjhh4lGo3z84x/vWBaJRDjnnHN47LHHaG7On69B5npkHefcauBjvayzEi+w97avmZmpSkSk/x5csJav+UH99vMV1EWk8H33kSW8tq4h0BoO3rua//1Iqq867rklS5Ywfvx4qqqqdls+adIkWlpaWLp0KZMmZefY6dLItYjIHkgO6pVlCuoiIvmuvr6eoUO7nqBw2LBhHa/ni5yPrIuIFAsFdREpVtka0Zb0aWRdRKQfFNRFRArX0KFD2bKl6yV+2kfU20fY84HCuohImhTURUQK26RJk1ixYgW7du3abflrr71GWVkZ++23X0CVdaWwLiKSBgV1EZHC95GPfITW1lb++Mc/dixra2vjD3/4A+9///spLy8PsLrdac66iEgfKaiLiBSG2bO9a2UuWLAAgEcffZTa2lpqa2uZMWMGkydP5uMf/zizZs2itbWV8ePHc/PNN7NixQruvffeIEvvQmFdRKQPFNRFRArH2WefvdvzSy65BPAufDRnzhwA7rrrLr71rW9x9dVXs3XrVg4//HD+8Y9/MGXKlFyX2yOFdRGRXiioi4gUFudcr+tUVlZy/fXXc/311+egov7TnHURkR786SUvqB83cbiCuoiI5JzCuohIN/700lqu+KMX1O84/ygFdRERyTmFdRGRFBTURUQkHyisi4gkUVAXEZF8obAuIpJAQV1ERPKJwrqIiE9BXURE8o3CuogICuoiIpKfFNZFpOQpqIuISL5SWBeRkqagLiIi+UxhXURKloK6iIjkO4V1ESlJf17oBfVpExTURUSKyZw5czCzLrchQ4YEXVq/RIIuQEQk1/68cC2XP+AF9V9foKAuIlKMbrjhBo466qiO55FIYcbewqxaRKSfFNRFRErDQQcdxLHHHht0GXtM02BEpGQoqIuISKHRyLqIlAQFdRGRNDz6TVj/SrA17HUo/Nd1/d78vPPOo66ujiFDhnDqqady3XXXMXbs2AwWmBsK6yJS9BTURURKx+DBg7niiiuYMWMG1dXVLFy4kB/84AdMmzaNhQsXMmLEiKBLTIvCuogUNQV1EZF+2IMR7aBNnjyZyZMndzyfMWMG06dP5+ijj+aGG27g2muvDbC69GnOuogULQV1EREBmDJlCgcccAAvvvhi0KWkTWFdRIqSgrqIiCQzs6BLSJvCuogUHQV1ERFJNH/+fN58802OPvrooEtJm+asi0hR+fPCtVyhoC4iUrLOO+88xo8fz5QpUxgyZAgLFy7khz/8IaNHj+bLX/5y0OWlTWFdRIpGe1A/ZryCuohIqTrkkEP4/e9/zy9/+Ut27drFXnvtxZlnnsl3v/tdampqgi4vbQrrIlIUEoP6nZ9WUBcRKVVXXXUVV111VdBlZIzmrItIwVNQFxGRYqWwLiIFTUFdRESKmcK6iBQsBXURESl2CusiUpAU1EVEpBQorItIwVFQFxGRUqGwLiIF5S8L31FQFxGRkqGwLiIF4y8L3+HyBxYpqIuISMlQWBeRgpAY1H/96akK6iIiUhIU1kUk7yUH9aoyXc9NRERKg8K6iOQ1BXURESllOQ/rZjbGzGab2TYzazCzP5nZ2D5st6+ZPWRmq8ys0czqzOxJM/tgLuoWkdxTUBcRkXStXbuWyy67jGnTplFVVYWZsXLlyqDL6rechnUzqwL+AxwIXAB8CtgfeMLMBvSy+UCgDrga+CDwWWA78DczOzNrRYtIIBTURUSkP5YuXcoDDzzA0KFDOfHEE4MuZ4/l+tPvImAC8B7n3FIAM3sZeBv4PHB9dxs655bgBfQOZvY3YAVwIfCnLNUsIjmmoC4iIv01ffp0NmzYAMAdd9zB448/HnBFeybX02BOA+a1B3UA59wK4Bng9HR35pxrA7YBbRmrUEQCpaAuIiJ7IhQqrq9k5vpTcBLwUIrlS4Cz+7IDMwvh/SOjBrgYOAD4SqYKFJHgKKiLiOSHH73wI96ofyPQGg4cdiDfOPobgdaQD3L9T49hwJYUy+uBoX3cx4+BVuBd4ErgHOfcv7tb2cwuNrP5ZjZ/06ZN6dYrIjny0CIFdVGfLSKSrBA/DX8O3A/sBZwP3GdmZznn/ppqZefcbcBtAFOnTnU5q1JE+uyhRe/w1T8s4ujxwxTUS5z6bJH8oBHt/JHrT8QtpB5B727EvQvn3Fpgrf/0r2Y2B/gpkDKsi0h+Swzqd376KAV1ERGRBLmeBrMEb956soOB1/q5z/nAfv2uSEQCo6AuIiLSs1yH9YeBY81sQvsCMxsHHO+/lhb/y6YnAMsyVJ+I5IiCuoiISO9y/el4O3Ap8JCZXQ044HvAGuDW9pXMbF+8AH6Nc+4af9l38KbLPAOsx5uz/lngaODc3DVBRPaUgrqIiGTT7NmzAViwYAEAjz76KLW1tdTW1jJjxowgS0tbTj8hnXM7zexk4GfAPYAB/wZmOed2JKxqQJjdR/5fAmYB5wCD8QL7YuBE59wzOShfRDJAQV1ERLLt7LN3PyP4JZdcAsCMGTOYM2dOABX1X84/JZ1zq4GP9bLOSrzAnrjsYfoxVUZE8oeCuoiI5IJzxXMyqeK6xJOI5C0FdRERkfQprItI1imoi4iI9I/CuohklYK6iIhI/ymsi0jWKKiLiIjsGYV1EcmK9qB+1DgFdRGRfFZMX8bMhVz/vBTWRSTjEoP6XRcqqIuI5KuysjIaGxuDLqOgNDY2Eo1Gc3a8Pn+Cmtlo4BTgWGBvoBKoA94EngSedM7Fs1GkiBQOBXURkcJRU1PD2rVrqampYdCgQUQiEcys9w1LkHOOxsZG3nnnHUaOHJmz4/b6KWpmM4ArgVPxLlS0FtgENAKHAx8Bvg28a2a3A9c75xqyVrGI5C0FdRGRwjJ48GDKy8vZtGkTmzdvpq2tLeiS8lo0GmXkyJFUV1fn7Jg9fpKa2d+Ak4BHgP8GnnLO1SWtEwIOwQvt5wJfMrNPOucey07JIpKPFNRFRApTRUUFY8aMCboM6UZvn6ZvAZ91zq3vbgV/6svL/u37ZnYaMDhzJYpIvlNQFxERyY4eP1Gdc19Nd4fOuYf7X46IFBoFdRERkezZ47PBmNnwTBQiIoVHQV1ERCS7+hzWzewiM7sy4fmhZrYW2Ghm881sr6xUKCJ5SUFdREQk+9IZWb8M7www7a4HtgKz8OaoX5PBukQkjz28eJ2CuoiISA6k8wm7L/AGgJkNBmYAZzjn/m5mm4EfZqE+EckzDy9ex6z7FzJVQV1ERCTr0hlZDwHtFz06AXDAHP/5GmBE5soSkXyUGNTvVlAXERHJunTC+tvAh/zH5wDPOud2+c/3BuozWZiI5BcFdRERkdxL59P2p8A9ZnYBMBQ4O+G1k/DOsy4iRUhBXUREJBh9/sR1zt1nZquBY4AXnXNzE17eAOj86iJFSEFdREQkOGl96jrnngaeTrH8fzNWkYjkDQV1ERGRYPU4Z93MRvVnpzrnukjhU1AXEREJXm9fMF1qZr8wswN725GZVZrZuWa2CPhcZsoTkSAoqIuIiOSH3j6BpwM/BpaY2cvAU8BiYBPQjPdF0wnA0cDJeKd2/DHeBZNEpAA9oqAuIiKSN3r8FHbOLQDea2ZH4o2Wfxi4NGm1JuB54OvAvc657dkoVESy75HF6/hK+wWPPq2gLiIiErQ+fRL7oX0BgJmNwDuvegWwGVjpnGvNWoUikhPJQX1AuYK6iIhI0NL+NHbObQQ2ZqEWEQmIgrqIiEh+SucKpiJShBTURURE8pfCukgJU1AXERHJbwrrIiVKQV1ERCT/KayLlCAFdRERkcKgsC5SYhTURURECkfan9JmVgMcCwwHHnHO1ZtZBdDinItnukARyRwF9TwRj0NIYyUiItK7Pn9amOcnwFrgYeBOYJz/8kPAtzJenYhkzCOL1zHrD4uYuq+CemDefRnuPw8e/XrQlYiISIFIZ2jnKryrl14DHANYwmuP4F3dVETyUHtQP3LsUO66UEE959a/4oX0W0+EFU9B9aigKxIRkQKRzif254BrnHM/NLNw0mtLgYmZK0tEMkVBPUDrX4EnfwSvPwLl1TDjm3DsF6FySNCViYhIgUjnU3s0MK+b11qAAXtejohkkoJ6QNa/Ck9elxDSv+GH9KFBVyYiIgUmnU/ud4BDgCdSvHY4sCIjFYlIRiioB2D9q/5I+sMK6SIikhHpfHr/Efi2mb1E5wi7M7MDgCuA2zJdnIj0j4J6jm1Y4oX01x6CskEw/eteSK8aFnRlIiJS4NL5BP8OcBwwF1jlL/sjMAZ4Frguo5WJSL8oqOfQhtf8kP4XP6RfCcdeopAuIiIZ0+dPcedco5nNBM4FTsX7Uulm4HvAvc65tqxUKCJ9pqCeIxtfhznX+SF9IJz4NZj2JYV0ERHJuLQ+yZ1zMeAe/yYieURBPQc2vu6NpC/5C5QNUEgXEZGs6/enuZl1OUe7rmAqEoy/vqygnlUb3/BD+p/9kH45TLtUIV1ERLIunSuYVprZdWa2zMyagdakW0sf9zPGzGab2TYzazCzP5nZ2D5sN9XMbjOzN8xsl5mtNrN7zWx8X9sgUoz++vI6vnK/gnpWbHwDZn8GbjoW3n4cTvgqzHoF3vttBXUREcmJdD7VbwLOw7ta6f30MZwnMrMq4D9AM3AB4IBrgSfM7DDn3M4eNj8HmATcACzBO+/7/wDzzewI59yadOsRKXTtQX3K2CEK6pm06U1vJP3VP0G0ygvp0y6FAcODrkxEREpMOp/spwFfc87dsAfHuwiYALzHObcUwMxeBt4GPg9c38O2P3LObUpcYGbP4J3f/SLg23tQl0jBSQzqd194tIJ6Jmx6E578Mbz6oB/SZ8G0yxTSRUQkMOl8ujcDr+/h8U4D5rUHdQDn3Ao/dJ9OD2E9Oaj7y1aZ2Sa8UXaRkqGgnmGb3oK5P4ZXZnsh/fivwHGXwYCaoCsTEZESl84n/N14U1H+uQfHmwQ8lGL5EuDsdHdmZgcBI9jzf0SIFAwF9Qyqe9sfSZ8NkQo4/stw3JcV0kVEJG+k8yn/P8DNZvY48BiwJXkF59ydvexjWKrtgHogretxm1kEuAXYBPy6h/UuBi4GGDu21++xiuQ1BfUMSQ7px12mkJ4n1GeLiOwunU/6I/GmsYwA3pfidQf0FtYz6Vd4V1T9kHMu1T8AAHDO3QbcBjB16lSXo9pEMk5BPQPqlvrTXf7ohfRpl3ohfWBt0JWJT322iMju0vm0vwXviqUXAW/Qj7PB4I2qpxpB727EPSUzuw5v5OUC59zj/ahDpKAoqO+huqUw9yfwygMQLvcuZHTcVxTSRUQk76XziX8gcJZz7u97cLwlePPWkx0MvNaXHZjZt4BvAJc553QlVSl6Cup7YPMyL6S//AcvpB97iffl0YEjgq5MRESkT9L51H8TGLCHx3sY+KmZTXDOLQcws3HA8cA3e9vYzL6Md172bznnfrWHtYjkvb+9/K6Cen8opIuISJFI55P/m8CPzewF59yqfh7vduBS4CEzuxpvnvv3gDXAre0rmdm+wDLgGufcNf6yc4CfA/8A/mNmxybst8E516eReZFC8beX3+XL9y9UUE/H5mUw96d+SI96If24L8OgkUFXJiIi0i/pfPpfjffl0rfM7C26zjF3zrkZPe3AObfTzE4GfgbcAxjwb2CWc25HwqoGhIFQwrIP+Ms/4N8SPQnMTKMtInktMajfpaDeu/rlXkhffL8X0o/5gjeSrpAuIiIFLp0EEMP7Yukecc6tBj7Wyzor8YJ54rJPA5/e0+OL5LvkoD5QQb179cth7v/B4t/7If3zcPwshXQRESkafU4BzrmZWaxDRFBQ77P6Ff5IemJI/woM2ivoykRERDJKSUAkTyio90H9Cnjqp7Do9xCKwNEXwwmzFNJFRKRo9ZgGzGw68JJzbof/uEfOubkZq0ykhCio92LLys6RdAvD0Rd5012qRwVdmYiISFb1lgjmAMcCL/iPu7uanPmvhTNVmEipUFDvwZaV8NT/waL7vJA+9bNwwlcV0kVEpGT0lgpOovNiRSfTfVgXkX5QUO/GllX+dJfEkD4LqvcOujIREZGc6jEZOOeeTHg8J+vViJQQBfUUtq72prssuhcsBFM/44+kK6SLiEhp6nM6MLPlwEedc4tTvHYI8LBzbkImixMpVn9/xQvqk8coqANeSH/q/2DhvWAGR17ohfTBo4OuTEREJFDpJIRxQHk3r1UA++5xNSIl4O+vvMtlv/eC+t2fKfGgvnWNH9J/54f0C+CEyxXSRUREfOmmhO7mrE8Ftu5hLSJFT0Hdt3UNPH09vHRPQkj/KgzeJ+jKRERE8kpvp278KvBV/6kDHjGzlqTVKoFhwP2ZL0+keCioA9vWeiPpL93jPZ9yPpx4uUK6iIhIN3pLC8uBf/uPLwDmA5uS1mnGO2PMHZktTaR4lHxQ37YWnroeXvqt93zKp7zpLkPGBFuXiIhInuvtbDAPAQ8BmBnANc65FTmoS6RolHRQ3/aOP93lt+AcTP4knHiFQrqIiEgf9Tk1OOcuzGYhIsWoZIP6tnfg6Z/BS79JCOmXw5CxQVcmIiJSUEokOYjkXkkG9YZ1/nSX34CLJ4ykK6SLiIj0RwmkB5HcK7mg3rDOG0lfcLcX0o84zwvpQ3VGVxERkT1R5AlCJPdKKqg3vJsQ0mNwxLlw4tcU0kVERDKkiFOESO49WipBveFdeObnMP+uhJB+BQwdF3RlIiIiRaVIk4RI7j36yrtc+vuFHFHMQX37em8kff5dEG/rDOnDxgddmYiISFEqwjQhknuJQf03xRjUt6+Hp38OC+6CWCsc8QlvuotCuoiISFYVWaIQyb2iDurb18Mzv4D5d3oh/fBPwHSFdBERkVwpolQhkntFG9S3b/BD+q8TQvoVMGxC0JWJiIiUlCJJFiK5V5RBvUtIP8ebkz58YtCViYiIlKQiSBciuVd0QX3HRi+kv/hriDXDYed4010U0kVERAJV4AlDJPeKKqgrpIuIiOS1Ak4ZIrlXNEF9xyZ49hfwwh1+SP84TL9SIV1ERCTPFGjSEMmt+p0t3PXMCm6as6ywg3p7SH/x19DWBIf+txfSa/YLujIRERFJoQDThkjuvLutkdvnruD3L6ymsTXGhw4dxY/OOqzwgvqOTdao34gAACAASURBVPDsDfDiHX5IPxumf10hXUREJM8VWOIQyY0VdTu5Zc4y/rRwLXEHpx+xN1+cMZH9Rw4KurT07KzzQvoLtyeE9CuhZv+gKxMREZE+UFgXSbBk3TZumrOMR195l0g4xDlHjeXi6RMYM6wq6NLSs7MOnv2lF9Jbd3WG9NoDgq5MRERE0qCwLgK8uLKem55YyhNvbmJgeYSLp0/kMyeMY8SgiqBLS8/OzZ0j6a274NCzvOkuCukiIiIFSWFdSpZzjiff2sRNTyzjhZX1DBtQxtfefwCfmjaOwZXRoMtLz87N8Nwv4fnbvJB+yMdgxteh9j1BVyYiIiJ7QGFdSk4s7vjHq+u5ac5SlqxrYNTgCv73Iwfz8aPGUFVWYL8Su+r96S63QctOhXQREZEiU2DJRKT/Wtri/GXhO9zy5DKW1+1kQs0Afvyxwzhj8mjKIqGgy0vPrnp47lfw/K1+SD/Tm+4y4sCgKxMREZEMUliXotfYEuP+F1dz29zlvLutiYNHVXPjuVP4wCF7EQ5Z0OWlJzmkT/qoN5I+4qCgKxMREZEsUFiXorWtsZV7nlvJnc+spH5nC0ePG8YPzzyUGQfUYlaIIf1GP6TvgElnwIxvKKSLiIgUOYV1KTqbtjfz66dX8Lt5q9jR3MZJ76nlkpP246hxw4IuLX276mHeTTDvFmjZ7o2kT/86jDw46MpEREQkBxTWpWisqd/FbXOX88D8NbTE4nzo0FF8ceZEJu09OOjS0te4BZ67CZ6/BZob4GB/JF0hXUREpKQorEvBe3vDdm5+chkPLVpHyODMyfvw+RkTmFA7MOjS0tclpJ/uh/RJQVcmIiIiAVBYl4K1eM1WbpqzlMeWbKAyGuaCaeO4aPp4Rg2uDLq09DVugXk3e7fmBjjoNJj5TYV0ERGREqewLgXFOcdzyzdz0xPLeHppHdUVEb588n58+vjxDBtQFnR56WvcmhDSt3khfcY3YK9Dgq5MRERE8oDCuhSEeNzx7zc2cuMTS1m0Zis1A8u56r8O5NxjxjKoosCuNgpeSH/+Fm/KS/M2OOgjfkg/NOjKREREJI/kPKyb2RjgZ8ApgAH/AmY551b3YdsfAFOBI4FhwIXOubuzV60ErS0W568vv8vNc5bx5obt7DO0ku+dcQhnH7kPFdFw0OWlr2mbN4reHtIP/LAX0kcdFnRlIiIikodyGtbNrAr4D9AMXAA44FrgCTM7zDm3s5ddXAYsAv4KnJ/NWiVYTa0xHnxpLbc+uZzV9bvYf8RAfvbxw/nwYXsTDRfY1UbBD+m3wLwbvccK6SIiItIHuR5ZvwiYALzHObcUwMxeBt4GPg9c38v2g51zcTPbD4X1orSjuY37nl/F7U+tYNP2Zg4fM4SrP3QQ7ztoJKFCu9ooeMH8+Vu9q452hPSvw6jDg65MRERECkCuw/ppwLz2oA7gnFthZs8Ap9NLWHfOxbNcnwRky84W7np2Jb95diXbGls5fr/h/PzjR3DcxOGFd7VRgKaGhJC+Fd7zIZj5DYV0ERERSUuuw/ok4KEUy5cAZ+e4FskD67c1ccdTy7nvhdXsaolxysEjuWTmRCaPHRp0af3T1AAv3ArPtof0D3rTXfY+IujKREREpADlOqwPA7akWF4PZCWdmdnFwMUAY8eOzcYhpB9W1u3k1rnLeHDBO8Sc47TD9+YLMybynr0GBV1a/ySH9AP+yxtJ33ty0JWJFBT12SIiuyv6Uzc6524DbgOYOnWqC7ickvf6uw3cNGcZf3t5HZFwiP8+ah8+P30iY4ZVBV1a/zRv75zu0rhFIV1kD6nPFhHZXa7D+hZSj6B3N+IuRWLBqnpufGIZ/3ljIwPKwlw0fQKfPX48I6orgi6tf5q3wwu3wbO/9EP6B7zpLqOnBF2ZiIiIFJFch/UlePPWkx0MvJbjWiTLnHPMfbuOG59Yygsr6hlaFeXyUw7ggmnjGFxVgBcyAj+k3+6H9HrY/1RvJH30kUFXJiIiIkUo12H9YeCnZjbBObccwMzGAccD38xxLZIl8bjjsSXruXHOUl59p4G9qiv4nw8fzCeOHkNVWYHNvHIO6pfD6udg1XPw5t/9kP5+mPlNhXQRERHJqlwnp9uBS4GHzOxqvIsifQ9YA9zavpKZ7QssA65xzl2TsHwGUAvs5S+aamY7AJxzs3PSAulWayzOXxa+w81PLmP5pp2MG17Fjz52KGdMHk15pECuNhqPwYZXvWC++llYPQ92bPBeqxwG46fDcV+GfRTSRUREJPtyGtadczvN7GTgZ8A9gAH/BmY553YkrGpAGEi+VOV3gRkJz7/k39q3kQA0tsT4w4uruW3uctZta+KgUdX88hOT+eChowjn+4WMWpvgnQVeMF/1HKx5AVq2e68NHgsTZsLYabDvcTB8fwgV4NVTRUREpGDlfE6Cc2418LFe1llJivDtnJuZnaqkP7Y1tvK7eau48+kVbN7ZwtR9h/L9jx7KzPfU5u+FjBq3wprnYdWz3tSWdQsh1uK9NuJgOOy//XA+DQbvE2ytIiIiUvIKbAKx5IO6Hc3c+fQK7nluFdub25hxQC1fOmk/jh4/LOjSumpY5wfzeV4437AEcBCKeKdXPOYL3qj5mGOgKg/rl4LmnGNr81Y2NW6iblcdGxs3UtdYx4iqEZw28bSgyxMRkQKgsC59tnbLLm6fu5z7X1xDSyzOBw8ZxRdnTuSQ0YODLs3jHGxe2jlqvupZ2LrKe61sIOxzFJz0/7yR89FHQlmBnttdAhd3cbY0baGusY5NjZvYtGsTmxo3sXHXxt2W1TXW0Rpv7bL9zH1mKqyLiEifKKxLr5Zu3M7Nc5bz0KJ3ADhzymg+P2MiE2sHBltYrA3Wv9wZzFfPg1113mtVNd5UlmO+AGOPhb0Og7De7tKzWDzGluYtHeE7+b6usY6NuzayuXEzba6ty/bVZdWMqBpBTWUNU0dOpbaqltrK2s77ylpqqmqojFQG0DoRESlESi/SrZfXbuWmJ5bx2GvrKY+E+OSx+3LR9AmMHhJQ0GjZBe/M7zxTy5oXoXWn99rQcbD/KQlfBt0P8nXevORcW7yN+qb63YN3+7SUhPvNTZuJuViX7YeUD+kI3OMHj+8I5COqRngBvLKG2qpaysPlAbRORESKmcK67MY5x/Mr6rnxiaU89XYdgyoifGnmflx4/DiGD8xxENlV3znXfPVzsG4RxFsBg5GT4IhzvdHzsdOgeu/c1iZ5oTXeyubGzR0j3snTUtrv65vqibt4l+2HVQzrGO0+YOgBHaPgIypHUFNV0xHEy8JlAbROREREYV18zjn+88ZGbnxiKS+t3krNwDK+8YEDOe/YsVRX5Ohqo9vWdo6ar3oONr3uLQ+Xwd5T4LhLYexxMOZoqBySm5okEK2x1q7BO0UI39K0BYfbbVvDGFYxrGP0+6DhB3VMQUmcljK8YjjRcIFeSVdEREqGwnqJa4vF+dsr73LznGW8sX47o4dUcs3pk/jvqWOoiGbxQkbOwaY3O4P56udg2xrvtbJBMPYYOPRjXjgffSREK7JXi+RMS6ylS+hOHBVvn46ypXlLl21DFmJ4xXBqq2rZa8BeHFp7aMfId/t0lNqqWoZVDCMSUtcmIiLFQZ9oJaq5LcaDC97h1rnLWLV5FxNrB/B/Zx/OaUfsTTSchQv/xFrh3cWdZ2pZPQ8a673XBozwprNMu9S7H3kIhArkiqcCQFNb025fwKxrrOv6Jc3GTWxr3tZl27CFGV45nBGVIxg9cDRH1B7RMQLePjpeW+mF8LDeFyIiUmIU1kvMzuY27nt+NXc8vZwNDc0cts9gbvnkkbz/4JGEMnm10eYdsPZFf875s7B2PrTu8l4bNgHe88HO+ebDJujLoHlqV+uubueBJz7e3n7V1wSRUMQb9a4cwdhBYzly5JFdpqLUVNYwrGIYIdOVYUVERFJRWC8RW3e1cPezK7n72ZVs3dXKtAnD+enZh3PCfjWZudrozs2dXwRd9aw3iu5iYCFvpHzK+V4wH3ssDNprz48ne2Rn685eT09Y11jHjtYdXbaNhqIdYXvC4AkcM+qY3aajtN8PLh+sEC4iIrKHFNaL3IaGJu54ajn3Pr+aXS0x3nfQSC45aSJTxg7t/06dg62rE85v/hzUveW9Fi6HfabCCbM6vwxaUZ2ZxkiPnHPsaN3R7WkJE0fDd7Xt6rJ9ebi8I2jvP3R/jh99fMcUlMRpKdVl1Zn5B56IiIj0SmG9SK3avJNbnlzOgwvW0haP85HD9+aLMydy4F79CM7xuHdmlsT55g3eBZIoH+x9GfTwT3jnN997MkR0rulMcs7R0NLQ/XSUhBHxxrbGLttXRio7QveBww7kxNEndr1YT1Utg6KDFMJFRETyjMJ6EWlqjfHKO9v43bxVPLJ4HZFQiLOm7sPnp09g3+ED+r6jthZYt7BzWsvqedC01Xtt0KjOCw+NnQYjDtKXQfvJOce25m3dzgNPnI7SHGvusn1VpKojbB8y/JCOxzVVNR3nCR9ROYIB0QEK4SIiIgVKYb1AOedYUbeTRWu2dtxef7eB1pijqizM506cwGdPGM/I6j6c8rB5O6x5wZ/W8px3ldC2Ju+14fvDwaf5882neVcKVfDrUdzF2dq8tdfTE25q3ERrvLXL9gOjAzumoxxee/huZ0RJHAkfEE3jH2AiIiJSkBTWC8SWnS0sWruVRau9YL547Va27vKCXlVZmMP2GcxnT5jAEWOGMG3CcAZX9XCxlx0bO4P56mdh/Svg4t6XQfc6DKZ+pjOcD6zNUQvzX2u8lW3N23o9PWFdYx1t8bYu2w8qG9QRtKeMnNIZvBNCeE1lDVXRqgBaJyIiIvlIYT0PtbTFeWN9AwtXd46ar6jbCXiD2geMGMSpB+/FEWOHMHnsEPYfMYhwd6dddA62rOgM5qvnweal3muRCtjnKDjxa95pFPc5CsoH5aiVueecY2frTra3bKehpYGGloaOx7vdNzekXCfVfHCAweWDO0L3+MHjdzstYeKoeEVEF3YSERGR9CisB8w5x9otjSxc0z5qvoVX1zXQ0hYHoHZQOUeMGcJZR+7D5LFDOGyfIQws7+F/WzwGG5Z0nt981XOwY733WsUQb7R8yvnemVpGHQ6Rshy0MnNaYi27h2g/WCeH7sR1El+Lu3iP+x8UHcSgskFUl1czqGwQYweN7XhcXVZNdVl1l/OEl4f1hVoRERHJDoX1HGtoauXlNdtYtGZLx6h53Y4WAMojIQ4dPZjzj93XHzUfyt6DK3b/cmA8BtvWwtY13ukTt66Gras6H29bC+3zoKv3gfEneuc2H3sc1B4IoWDPex13cXa07tht9LpL0G5uYHvr9i7rbG/ZTlOsqcf9l4fLO4L1oLJBDK8YzrjqcbuF7cTwPahsUMfjgdGBukKmiIiI5BWF9Sxqi8V5a8MOFq7Z0jHXfOmmHTjnvT6hdgDTD6hl8pghHDFmKAeOGkTUHDSsg60rYNXcbsJ40nzogSNh8BjvtIkHnw4jDvamtQwZm/E2OedoijV1GbHe1rytS7BONb1kR+sOHK7b/YcsxMDowI4gXV1ezcSqiV2C9W735dUdjzXKLSIiIsVEYT1LYnHH1O//q+NLoEOrohwxZggfOXQER9c0c0jlVgY2rYOt82DDGnjTD+QN76QI43t5wXv0VJj0Ue/xkLEwZF8YvA9EK9OqrS3exo6WHV2mjaSct93awPbm3ddJdQaTRJWRyt1GskdWjWT/Ift3Ti9JmGrSvk77+lXRKl31UkREpFA55520It6WcIuleJ5qWVuXZfFYK7FYK/G2to77eKyVeKyNeFsrLbFmWttaaI210hZrpSXeQlushbZYG23xVlrjbcRcK62xNmKujbZ4+32MmGsj5mLEXIw2FyPuP465ODHi/n0MC0WYdcmLgf1IFdazJGzwvQPmMyy+kRFWT0XzBuIN64i9uIG4i/OOQQyIY8QG1BAfOJLY3gcS2386sYE1xKu8W6xqKLFQmJiLEXfxzvv4dmL1i4lvXpiwzHuTNbU19Thve2frzh5rj1ikS7AeNXBUl1HtVCPcg6KDiIZ7OBONiIhIMYvHwfUWRFMH09TPY13CazzW5t9aibd5z12sjXi8FdfWRjzuPXexNlzcC7WxeKsXaF0rsXgbrXHvPuZi3nPX5uUIYp3L8YOrixEn3vkc5z9vvzniOOLmiOFoM4hhtBq0mdEGxMxow2hLWNZm/nOMmH/f6i+L0flal2389WP9OZV0+3hgGrNey+MxZqV/pIxRWM8WM65rvI+G9rO0GDAYGDyymw02Q+NmaHwd6vb88AOiA3YL06MHjubAsgN7nbddXVZNZaRSF9ERkZLz5FubWL+tkYpomPJImPJoiIpImIpoiHL/3nvNu6+Ihrs/E5d05ZwXOGOtneEz1up9z6p9WcfztoTlrbhYa0cwdTHvdRdrxcVacDFvOxdrxfnbeOu04uKdgbU9vBL3nhPvfN4eiJ0fYOMu5o/A7j766oXWhJFXYngxNu4NmvmBtTOIdgbV1oTg6QXRpDCaEEpj4IfWxKBLN9skBt3O7dsSwnGXUBuiM7SmpW8bhpwRwvz79v86H4cJJywPE7IwYfOXWYSwRYhamAqLeM9DEcIW9e8jhENRIqGodx+OEgmXe8/DUSLhMsrCZUTDUaKhCNFwlLJw531ZOEp50uPySJSySOfjirD3PGxhIqEIkVCwcVlhPYuuPPIK2soqCYfLCVmIkIW8N2MoRMQinc/9+3Ao3GVZd+uGQv42KZaVh8sDf2OJiBSax+Y+w+Jla4kTIubf4gn3cWe7LYsRglCIsmiIaCRENBomHA0RjYQpjxplESiPQjQMZVEoixjRsKMsYkQijkgIohGIhBwxFyfunH+LEY97y5zzA6zzA6bzw6V/75wfNBPv/ZtzMczFsHgMRxvm/BFf2iAex2jzpivgL3cxzPt7r788Bs5heMvblxnO3yYOFvfXiWPEcea847Tf48Di/jbeN5acGf4rtJ+fK56wrH25M9v9edK2Dohb++OEfRo4Z8TMqypxtDY5ELcZxMJGLII/UtvbuyRMWkOyvbDdwmxiePXvO4JsBCPsf+5HCIUinaE2FKWiPcj6ITYSjhIJhYmYF1gj4Yh3H4p4wTUUJeovKwtHKQt7zxMDbDQcoSLivVYeKaMsHCFikY7w2nHzl4VD4Y7nGvDLLCW6LDrjsAuDLkFERPqosux6QhM2gnnhz/lB0Mzwoof5r3mhEbyQ2QT0eJ4qB7T4t1wy/5aFrwGZ69y9dzOMsPfYtf+0LOG1hGWWuDRhLTOMUOdr5j82bzS343X/vnN54uNwx/OQ+VVZhGgoTGUoddgsC0UJh8IdAbYs3Lm8rGNUtjPUliWE2mg46gVV87Zv32fiiGw0tPsIbXugbR+gE+mNwrqIiAgweuIpvKf+DcIYYfP+lB8xLz6GMX9M1bsPOe+7SWHXOdYaan/sXMeysHOEcP56znvNQcg5iMcJxb1x4VAo0nGzUJhQOOo9D0cIhaId9+FwFELeYwtFsXD7NlFC7a+Fy7zXwxEsVEYoUoaFIli4zF+vDAtHsXCUUMh/7AdHw7x7P+i2LzPb/bGI5I7CuoiICPCZ4/8n6BJERLrQ319ERERERPKUwrqIiIiISJ5SWBcRERERyVMK6yIiIiIieUphXUREREQkTymsi4iIiIjkKYV1EREREZE8pbAuIiIiIpKnzDkXdA05Y2bbgTeDriMHaoC6oIvIAbWz+JRKW/vTzn2dc7XZKCZfqc8uOqXSTiidtqqd3ctYn11qVzB90zk3Negiss3M5qudxaNU2gml09ZSaWcGqM8uIqXSTiidtqqduaFpMCIiIiIieUphXUREREQkT5VaWL8t6AJyRO0sLqXSTiidtpZKO/dUqfyc1M7iUyptVTtzoKS+YCoiIiIiUkhKbWRdRERERKRgKKyLiIiIiOSpog/rZjbGzGab2TYzazCzP5nZ2KDrSmZmZ5nZg2a2yswazexNM/uhmQ1KWm+omd1hZnVmttPM/mVmh6bYX4WZ/cTM3vX395yZTU+xXsjMrjKzlWbWZGaLzexj2Wxrihr+YWbOzK5NWl7wbTWzD5rZXDPb4b//5pvZycXURv+4x5vZ42a20cy2m9lLZvaZbLfBzC4yszfMrNn/nflChtqzj5n90q9xl//+HJdivcDaZGZnmNlCf3+rzOxqMwvvaduDZuqz8/J3PKmGou2z/eMWfb9tRdZn+/su3n7bOVe0N6AKeBt4FTgDOB14BVgGDAi6vqRa5wEPAOcBM4BZwFZ/echfx4CngbXAJ4APAE/inah/n6T93etvfxHwXuBPQCNwRNJ63weaga8BJwG3AnHggzlq9yeAdwEHXJuwvODbCnweaAV+BpwCnAp8A/hwsbTRP+Zhfi1P+L9jp/jHdcAXs9UGfz9xf/2TgGv951/MQJtmAhuAvwOP+W0Zl2K9QNrkv5dieF96Ogm4HGgCfpSL39ssvpfUZ+fh73jS8Yu2z/aPWfT9NkXYZ/v7n0mR9ttZ/8UO8gZ8xf/B7JewbDzQBlwedH1JtdamWHa+/2Y72X9+uv/8pIR1BgP1wA0Jyw7317swYVkE70qADycsG+G/Eb+bdNx/Ay/noM1DgfV4HV5yx1/QbQXG+b/8s3pYp6DbmLD/HwAtwMCk5c8Bz2WjDf62G4HfJK13J96HZnQP2xRKePw5UnT6QbYJWAg8mbTet/3/D3tl6/91tm+oz87L3/GE4xRtn+3vexwl0G9ThH22v6+i7bez+osd9M3/oT6TYvmTyT+wfLwBB/lvqk/5z38NvJNivd8AqxKe/4//P78qab3v+m++cv/5p/z975+03oX+8vFZbt9twL/8x8kdf0G3FbgG2AlU9LBOQbcxYf8/9dsaTlr+D+D5bLQBONF/fkrSeieR9EGagfZ11+kH0iZgjP/8oqT1xpP0IVRoN9Rn5+XveMJxirbP9vddEv02Rd5n+/stqn672OesT8L7c2qyJcDBOa6lP2b496/79z21Z6yZDUxYb4VzbleK9cqA/RLWawaWplgPsvgzMrMT8EahvtTNKoXe1hOAN4BzzGyZmbWZ2VIzS2xvobex3d3+/Q1mtreZDTGz9j8v/iyhtky2YZJ/n/zzy/p7N0FQbUq5nnNuBbCLwujbuqM+u+t6+fA7Xgp9NpROv323f19qfXZ7HQXXbxd7WB8GbEmxvB7vz3l5y8xG4/0r/1/Oufn+4p7aA51t6m29YQn3W53/z7se1ssoMyvDm/v1U+fcm92sVuht3RvYH/gJcB3wfuCfwK/M7CsJxyzkNgLgnHsVb67g6cA7eLXeCHzBOXd/wrEz2Yb2++R9ZrWtSYJqU3frtS/LRduzRX126vXUZ3e/XiaVRL9dwn12+3EKrt+O9PSiBMP/l/lDePM0Lwy4nGz4OlCJ92WMYhUCBgGfds79yV/2H/+b6VeZ2Q1BFZZpZrY/8CDeSMIX8OZ8ng7cYmZNzrl7g6xPJNvUZxeNkui31WcXnmIfWd9C6tGY7v5lFTgzqwQeASYApzrn1ia83FN72l/vy3r1CesNMTPrZb2MMe8UbN/CmzdW7v/5bYj/cvvzMIXf1s3+/T+Tlj8OjARGUfhtbPcDvLMnfNg591fn3L+dc1/GO1PGL8wsRObb0P6zSd5nttuaKKg2dbde+7JctD1b1GenXk99dvfrZVKp9Nul2me311Fw/Xaxh/UldM4TSnQw8FqOa+mVmUWB2cBUvFMDvZK0Sk/tWe2c25Gw3ngzq0qxXgudc7CWAOXAxBTrQXZ+RhOACuB3eG/e9ht4p0faAhxK4bd1SS+vxyn8NrY7FFjsnGtNWv4CMBzvW/WZbkP7zzf555fttiYKqk0p1/NH/6rIw74tDeqzu64X9O94qfTZ7cfsSbH026XaZ7fXUXj9dia/fZtvN7zz3rYBExKWjcP7F+UVQdeXVGsI71+1jcB7u1nnDLxvDc9IWFaNNxrwy4Rlk/31LkhYFsH70tMjCctG4L05/zfpOP8CXslSO4fgzZVLvjngHv/xwEJvK/Ahv66zkpY/Bqwplv+f/v7nAMuBsqTl9/nv57JMtwGIApuAu5LWu8P/+ZX1tz0p2tfdWQUCaxOwCHgiab2rKfxTN6rPzsB7KcPtLIk+2993SfTbFHmf7e+3qPrtjL8J8ukGDMD7V9IrePOxTgMW+2/SgUHXl1Trzf4b6Frg2KTbPv46IeBZYA1wDt4J9ufg/flkTNL+7scb8fgc3je8Z+OdfH9K0nrX+csvx+t0b8YbPfhwjtvv2P00YAXdVrwLZ/zH/2X9At4XlW732/npYmhjwjHP8tv1mP979n7gV/6y67PVBv/nGvd/Z2bifbkvDnwpg+06i87fzS/6z2cE3Sbgg/7yW/31vurv/ye5/L3NwntJfXYe/o530/6i6rP945VEv02R9tkJbSu6fjtnv9hB3YCxeF+kaAC2A38hxRWtgr4BK/03VqrbdxLWG4Z3sv16vNP9/Bs4PMX+KoHr8S5g0QQ8D8xMsV4Y7192q/BOU/QySaMKOWr/bh1/MbQVb7TlRrwrqrX4xzu3mNqYcNz/wvvA2uT/ni0CLiHhPL7ZaAPe1Qbf8td7G7gkw+/JVLc5+dAm4Ey8INsMrMa7uEZ4T9sd9A312Xn5O56ijqLrs/1jlkS/TRH22Qnvy6Lrt83fWERERERE8kyxf8FURERERKRgKayLiIiIiOQphXURERERkTylsC4iIiIikqcU1kVERERE8pTCuoiIiIhInlJYl7xlZmeY2eUBbv9pM3P+5YALQiHWLCLFQX12+gqxZsk9hXXJZ2fgXTksqO1FRKTv1GeLZIHCukgBMU9Z0HWIiEjv1GdLJiisS14ys7uBC4DR/p8InZmtTHj9PWb2ZzPbamaNZjbPzD7Ql+3NrMLMfmZmr5rZDjNbW/ltVQAABPVJREFUb2aPmNmB/ajzCjPbldgZm9mD/vHel7DsIjNrM7PqhGWfNLPFZtZkZnVmdo+ZjUra/0oz+52ZfcbM3sC7/PWH/NcmmNnf/ONvMrNfAOUpajzXzBb6bW0ws1fM7PPptlVEpDvqszvWUZ8tGRcJugCRbnwPqAWOAk7zlzUDmNnewNPAduBSYBvwJeBvZvZh59yjPW2P1zkOAq4F3gWGAZcAz5nZQc659WnU+QRQCRwLzDUzA2YCjcDJwL/89U4GFjjnGvw2XAzcyv9v535Dq67iOI6/vw7CtCAX1GZJEpHRg1ghuMQU80mQQQWZRMGeREkkBAnVg6TQEIqknvWgMFxIKdYDEcPYdRS4NPpj/5B8sDCyGi0JlY3Urw++59Lxt3t37+7U/SafF3xxO55zz/lxt+/v7Jz7O/Ah8CIwF3gNWGRmd7n7iayP5UAX8ArwFzCYbjR7U9/PpPKngIfzwZnZEqAXeBtYR/yBfhtwzQSuUUSkEeXs/ylny4Xl7gpFKQPYAvxWo/wN4DRwS1bWBhwGvm7UvsbrtQGziBvJc1l5D+DA/HHazgCGgfXp+y7gLPAmsD+rdwzYlPX3J1ApvNaS1N/arGwQOAV0FOo+mep2F8byYz5m4HlgeKrfS4VCcfmHcrZytuLihD4GI9PRUmDA3Y9UC9z9DLAN6Mq3Lesxs1Vm9qWZHSduIieBq4AFExmIu58F+olVGNK/h4DtwEIzu9rMbgc6iBUdUh/XAR8UXusL4FdgWaGbAR+7cnQ3cNTdBwpj+ahQ7yAwJ23LrjQzrc6IyKWmnK2cLZOgybpMR+3EqkfRH4ABc8ZrbGYPEFuZPwOPAYuIrdchYGYL46kA3WZ2JbH9WSES7ghwTyr7j9gGro6fca6hvVBWq14nsdJTdF6Zu/cDjwDzgI+BITP7zMzuaHBNIiIXinK2crZMgibrMh0NE6seRR3EduI/DdqvBo64e4+773b3A8B3jE24zaoAVxCrR0uBPnc/DXxOrNrcCxxw95PZ+KvjrXUNw4Uyr1HvGHB9jfIxZe6+w92XETfEh4ibxh4z0++/iFwKytnK2TIJeuOlzEaJh3GK+olVkfnVAjNrAx4FvvH0QNA47WcR26i5J4jPJbbiB2KFZx0wO40PoA9YQWyRVrL6h4nVlNX5i5jZYuAmYF8Tfe4H5plZd9Z+BrCqXgN3P+Huu4iHpDqBa5voR0SkWcrZ9SlnS8t0GoyU2U9Au5mtAb4CRtz9e2Az8SDRXjNbD/xLnAxwK+mIrAbt9wAPmtlmYBewEHgWON7KIN3dzWwfsXV5MLvxVIDX09d9Wf0zZvYy8I6Z9RJP/t8AbAR+Ad5rotv3gReAnWb2EnGywNPAeZ/9NLNXiZWbCvA7cCOwFvjW3YcmfrUiInUpZ9ennC2tm+onXBWKekGseGwjtkgdGMz+bwHwCXEE2AgwANzXTHtiR2kDkQhPEasqdxJP8W/J2vfQ4GSBrO6aVHdTVlY9dWAEmFmjzePEVu4o8DewFegs1BkEeuv0eTOwO13DEPAWcRRYfrLA/cCnxBbsKHAUeBeYO9Xvr0KhuLxCOVs5W3FxwtIPh4iIiIiIlIw+sy4iIiIiUlKarIuIiIiIlJQm6yIiIiIiJaXJuoiIiIhISWmyLiIiIiJSUpqsi4iIiIiUlCbrIiIiIiIlpcm6iIiIiEhJnQMInjnOVx79MQAAAABJRU5ErkJggg==\n",
      "text/plain": [
       "<Figure size 864x288 with 2 Axes>"
      ]
     },
     "metadata": {
      "needs_background": "light"
     },
     "output_type": "display_data"
    }
   ],
   "source": [
    "#Q14\n",
    "fig, (ax1,ax2) = plt.subplots(nrows=1,ncols=2,figsize=(12,4),sharey=True)\n",
    "version1=table_builder([1000,2000,5000,10000],commit='c10b5a6cb4f06c96f6f221df2d5ec33af767d5c5')\n",
    "version1.plot.line(ax=ax1,legend=False, xticks=range(0,10001,2000))\n",
    "ax1.set_title('Version 2')\n",
    "ax1.set_ylabel('time (s)')\n",
    "ax1.set_xlabel('total words')\n",
    "\n",
    "version2=table_builder([1000,2000,5000,10000],commit='4e4128313b8d5b5e5d04f2e8e585f64f7c5831a4')\n",
    "version2.plot.line(ax=ax2, xticks=range(0,10001,2000))\n",
    "ax2.set_title('Version 3')\n",
    "ax2.set_ylabel('time (s)')\n",
    "ax2.set_xlabel('total words')"
   ]
  },
  {
   "cell_type": "code",
   "execution_count": 81,
   "metadata": {},
   "outputs": [
    {
     "data": {
      "text/plain": [
       "Text(0.5, 0, 'percent unique')"
      ]
     },
     "execution_count": 81,
     "metadata": {},
     "output_type": "execute_result"
    },
    {
     "data": {
      "image/png": "iVBORw0KGgoAAAANSUhEUgAAAt8AAAElCAYAAAA8644mAAAABHNCSVQICAgIfAhkiAAAAAlwSFlzAAALEgAACxIB0t1+/AAAADh0RVh0U29mdHdhcmUAbWF0cGxvdGxpYiB2ZXJzaW9uMy4xLjIsIGh0dHA6Ly9tYXRwbG90bGliLm9yZy8li6FKAAAgAElEQVR4nOzdeXxVxfnH8c+E7ASSC0kgLCGJYdGAFESFWkVwrwZXhFbU+tNqXahoxcoqe9w3VFQUN6giYAUpS624VKttUWhpgtVAANlCIAtL9mR+f9zklpCdJPdk+b5fr/tKMvc55zyH6OTJZM6MsdYiIiIiIiJNz8fpBERERERE2goV3yIiIiIiXqLiW0RERETES1R8i4iIiIh4iYpvEREREREvUfEtIiIiIuIlKr5FGoExJt4YY40xrzqdi4iI1Ex9tjhJxbc0S8aYd8o6xutqietXFrfFW7k1d8YYf2PMdcaYt4wxW40xx4wxR4wxXxtjfmOM0f/3ItKo1Gc3jDHmJmPMSmPMdmPMUWNMjjHmX8aYGcYYl9P5SePSD2FprhaVffxVLXG3nBDvlJ3AqcBUh/MA6AMsA64CvgPmA0uAaGABsMIYY5xLT0RaIfXZDTMWiAe+AF4EXgfygIeBTcaYCAdzk0ZmtMOlNEdlo7NpQDegp7V2fxUx7YAfgXCgu7U2w7tZNk/GmGjg58Bb1trc49o7AJ8DPwGusdb+0aEURaSVUZ/dMMaYQGttfhXt84BJwFxrbXP5RUEaSCPf0ixZa0uBNwBf4MZqwi4FooAPT+zEjTEXGmPWGmMyjTH5xpgUY8yDxhjfE+JuK/sT6DhjzNVlUzOOGmM2lr3frmyqxkZjTJYxJtcYs9MYs9wYM+i481Q7f9AYM8IY82djTLYxJs8Ys8UY80AVuVxYdo6pxpizjDF/KZsukm2MWVFWVNfl326Xtfal4wvvsvYjwFNlXw6vy7lEROpCffbJ99ll/36VCu8yy8s+nlLXc0nzp+JbmrPXAUv1f8as8s+XxpgJwEfAIOAD4AXgGPAo8IdqznUDsBTYDTwPfFLW/gTuqRrtcP9gmQ98CZwDnF3bDRhjxgF/KYt9r+x4X+BxYHk10z/OBj4D8oGXgU3ANcBHxpiA2q5Zi6Kyj8UNPI+IyInUZzd+n3152cf/NPA80pxYa/XSq9m+gI9xd+ZnndDeGSgA9gDtjms/HXdh+Teg43HtBneHbIGrjmu/raytGDi3iusfBv4O+JzQ3g5wHfd1fNl5Xj2uzQUcKXv1Oa7dH/cPCgvccFz7hWVtFrj2hOv9oaz9ugb+e/657DwXO/291UsvvVrfS322572T6rOBccAM4Eng07Jz/APo4PT3Vq/Ge2nkW5q76h7i+SXuDvEta23Jce2/wd3J3mOtPVzeaN292uSyL8dWcZ3l1tq/VtFugXzr/pPq/xqtLbHWZtWS+zVACPCKtfb7444txD2HD+DmKo7bYK1dcUJb+b/DmbVcs1rGmLuAi4A/W2v/fLLnERGpgfpst5Pts8fhfsjyftzTA9cBP7fuaYPSSvjWHiLiqPeBHGCsMeY+a21BWXt1T8yfDZQCVxpjRlVxvnygXxXtG6u5/nvAbcaYb4AVuEciNpZ1xrUZWPbxsyre+3tZLgOreO+bKtp2l30Mq8N1KzHGXAU8C2wHbjqZc4iI1IH6bLeT6rOttZcCGGM6A0OBx4BvjTGXWGu31udc0nyp+JZmzVqbZ4x5B/foyFXAUmPM6bjnBn5hrf3hhEM64X6WYXoNp21fRVt6NbF3Adtwj+LMLWs7bIx5E5hkrT1Ww3U6Vndua601xqQDXao47nAVbeVztNvVcL0qGWMS+d/cyBHW2uruVUSkQdRne5x0n112vUPAn4x7PfQfgJfQg/KthqadSEtw4p8xa1on9jBQAgRaa001r95VHFflmpvW2iJr7SPW2n6418m+GdgCjAeeqyXv8g65qs4aIJKqO+1GUzaStBz3D5OR1tpdTXk9ERHUZzeasj77v8BPjTF+3ry2NB0V39LsWWv/iftJ74uNMTG4n3I/ivvPiyf6B+6RhpOeG11DHj9aa98CLgAygar+RHq8zWUfzzvxDWPMWUDQcTGNrqzwXgYcwD3indZU1xIRKac+u9FF4f5lo6S2QGkZVHxLS7EI93+vS4AI4L1q/nz4Iu75gy8YY6JOfNMY09UYU9X8wUqMMUHGmKqWpuqIuxOubl3Wcn/E/QPndmNM/HHn9QOSyr58qy651Jcx5grchfdB3IX3tqa4johINdRn15ExpuPx1zuu3RhjZuDelOijEx8ilZZLc76lpViMe83Xn5Z9XeXWxNbaTcaYe3E/XPi9MWYN7l3XOgG9gXOBh3Bvu16b9sDXxpitwLe4d2YLA67E3ZE/UdPB1tosY8ydwJvARmPMUtwPIl0OnAaspPo1bE+aMSYB94NG/rgfNhpXxdK031prVzX2tUVEyqjPrrtI4L/GmH/gnmKyD/fSjOfifth0L3BvE1xXHKLiW1oEa22GMeZD3EtB/dda+2UNsc8bYzbxv6Warsb9J8c03OunvlvHyx7GvbzUBcD5uEdvDuH+c+pt1to1dch7sTFmb9l5xgIBQCowEXimbDmtxhaFu/AG9/JeVXkNUPEtIk1CfXa9pAPzgBG4dwHtjHuU/gdgDvC0tTazCa4rDjFN89+RiIiIiIicSHO+RURERES8RMW3iIiIiIiXqPgWEREREfESFd8iIiIiIl7SplY7CQ8PtzExMU6nISJSb998881Ba22E03l4k/psEWmpauqz21TxHRMTw8aNG51OQ0Sk3owxO53OwdvUZ4tIS1VTn61pJyIiIiIiXqLiW0RERETES1R8i4iIiIh4iYpvEREREREvUfEtIiIiIuIlKr5FRERERLzE60sNGmN6Ak8DFwEG+AswwVq7q57neQhIAr601v6s0RMVERER8aKcnBwOHjxIYWGh06lINfz9/QkPDyc0NPSkz+HV4tsYEwxsAAqAmwELzAE+Mcacbq09VsfzxAFTgQNNlauISGOz1nJ49WqMry8dL7vM6XREpBnJz88nPT2dHj16EBQUhDHG6ZTkBNZa8vLy2L17NwEBAQQGBp7Uebw97eTXQBxwlbX2A2vtSmAU0Au4ox7nWQAsAbY2fooiIo2v+OBBdo8fz96JD5LzwUqn0xGRZiYjI4OIiAiCg4NVeDdTxhiCg4MJDw8nIyPjpM/j7eJ7FPC1tTa1vMFamwZ8CVxZlxMYY34JDAYmNUmGIiKNyFpLzp/+xPYrEjn2+V+JfPBBerz4gtNpiUgzk5+fT0hIiNNpSB106NCB/Pz8kz7e23O+E4CqhnySgdG1HWyMceGeL/6gtTZTvxmKSHNWfOgQ+2fO4sif/0zgwNPplpREQFyc02mJSDNUXFyMr6/XH8WTk+Dr60txcfHJH9+IudRFJyCrivZMwFWH4x8HvgfeqOsFjTG3A7cDREdH1/UwEZEGObxuHftnzqL06FEiH/gdnX71K4x+sNZKfba0ZRpUbBka+n1qMUsNGmPOBW4C7rTW2roeZ619xVo7xFo7JCIioukSFBEBirOy2H3ffeyZcB9+3bsT+8f36XzbbSq860h9toi0dt7+aZBF1SPc1Y2IH+9l4DVgtzEmrKzNF2hX9nWetbag0TIVEamnwx99xP4ZMyk5fJiICRPofNutKrpFRKQCb498J+Oe932i04CUWo49FfgN7iK9/HUOMLTs8zsbL00Rkborzspiz+8eYM/43+LXpQuxy5cT/ps7VHiLSJu2e/duxo8fz7BhwzyruOzYsaNSXH5+PhMnTiQqKoqgoCCGDRvG559/XimutLSUpKQkYmJiCAwMZODAgaxYsaLKay9cuJB+/foREBBA3759eemllxr79k6at4vvVcDQsnW6ATDGxOAuolfVcuyIKl7/Av5T9vnyxk9XRKRmRz7+mO2Jozi8fj3hvx1PzNJ3Cezbx+m0REQcl5qaynvvvYfL5eLcc8+tNu7WW29l4cKFzJo1i9WrVxMVFcUll1zC5s2bK8RNmzaNGTNmcM8997B27VqGDh3K6NGjWbNmTYW4hQsXcscdd3Dttdeybt06Ro8ezV133cWCBQua5D7rzVrrtRfQHkgFtuBeWnAU7gJ6OxByXFwvoBiYXsv5PgW+qOv1zzjjDCsi0hiKs7PtngcftCl9+9ltV11t87ZubdLrARutF/vr5vBSny1tSUpKitMpNLqSkhLP5wsXLrSATUtLqxCzefNmC9hFixZ52oqKimyfPn1sYmKipy09Pd36+/vb6dOnVzh+5MiRdsCAARWOjYiIsDfddFOFuFtuucV27tzZFhYWNsat1fr9qqnP9urIt3XvYDkS94olb+PeKCcNGGmtPXpcqAHa0YIeCBWRtuPIJ5+w/YpEcv60hvC77yZ26bsE9uvndFoiIs2Kj0/tZdyqVavw8/NjzJgxnjZfX1/Gjh3L+vXrKShwP863fv16CgsLGTduXIXjx40bx5YtW0hLSwPgq6++IiMjo1LcjTfeyKFDh/jiiy8aelsN5vUJidbaXcC1tcTswF2A13au8xsnKxGR2pUcPkz6vCRyPviAgD596PHSAoISqnqMRUSk4WZ+mEzK3sOO5nBat448nNh0/VxycjKxsbEEBwdXaE9ISKCwsJDU1FQSEhJITk4mICCA+Pj4SnEAKSkpxMbGkpycDED//v2rjRsxYkRT3U6d6GkgEZE6OPr55+ybNp3igwfpfOdviLjzToy/v9NpiYi0aJmZmbhclRfC69Spk+f98o9hYWGV1tiuKg6odM4T45yk4ltEpAYlR46Q/uij5CxfgX/8KcQ8/zxBA/rXfqCISAM15YizOEdzqkVEqnH0iy/ZnjiKnPf/SOfbbyf2/fdVeIuINCKXy0VWVuWtXspHqMtHrF0uF9nZ2eULbtQYB1Q654lxTlLxLSJygpKjx9g3/WF+vO02fIKDiXn3HSLvvw8fTTMREWlUCQkJpKWlkZubW6E9JSUFf39/zxzvhIQECgoK2LZtW6U4gNNOO80TB3jmflcX5yQV3yIixzn21VekjRpF9vLldL7tVmL/+D5Bp5/udFoiIq1SYmIiRUVFLFu2zNNWXFzM0qVLufjiiwkICADg0ksvxc/PjyVLllQ4fvHixfTv35/Y2FgAhg0bRnh4eJVxnTp14pxzzmniO6qd5nyLiAClx46R/sQTZL/zLv4xMfRaspjgQYOcTktEpEVbvty9B+I333wDwNq1a4mIiCAiIoLhw4czaNAgxowZw4QJEygqKiI2NpYFCxaQlpZWoYCOjIzk/vvvJykpiQ4dOjB48GCWLl3Khg0bWLXqf/s0+vn5MXv2bO666y66d+/OhRdeyIYNG1i0aBHz58/Hvxn8BVPFt4i0ecf+/g/2TZ5M0d69dPrVr4iYcC8+gYFOpyUi0uKNHj26wtd33XUXAMOHD+fTTz8F4PXXX2fKlClMnTqV7OxsBg4cyLp16xg8eHCFY+fOnUtISAjPPvss+/fvp2/fvrz33ntcccUVFeJ+85vfYIzhySef5PHHHyc6Oprnn3/ec22nmRMnrrdmQ4YMsRs3bnQ6DRFpJkpzcznw5FNkLVmCX69ous2bR/AZZzidVpWMMd9Ya4c4nYc3qc+WtmTr1q2ceuqpTqchdVTb96umPlsj3yLSJuX+85/snTyFot27cd10I5H33YdPUJDTaYmISCun4ltE2pTSvDwOPP00WW8vxq9HD3q99SbBZ57pdFoiItJGqPgWkTYj99tv2TdpMoU7d+K64QYif3c/PidsaSwiItKUVHyLSKtXmp9PxrPPkfnGG/h160b0G2/QfujZTqclIiJtkIpvEWnV8jZvZu+kyRSmpRH2i7F0eeABfNq3dzotERFpo1R8i0irVFpQwMH58zm06HV8u3YhetFrtP/pT51OS0RE2jgV3yLS6uT9+9/u0e5t2wi7/noiH5xIu5AQp9MSERFR8S0irUdpYSEHn3+BQ6++im9kJD0XLiTk3J85nZaIiIiHim8RaRXytvyHfZMnUfBDKqHXXkOXhx6iXYcOTqclIiJSgYpvEWnRbGEhGQsWcOiVhfh27kzPV14m5LzznE5LRESkSj5OJyAicrLyU1JIG309hxa8RGhiInEfrlLhLSLSDCxfvpxrr72WXr16ERQURN++fZk0aRJHjhypEJeVlcVtt91GeHg47du358ILL2TLli2Vzpefn8/EiROJiooiKCiIYcOG8fnnn1eKKy0tJSkpiZiYGAIDAxk4cCArVqxosvs8GSq+RaTFsYWFZMx/nrTrx1CSmUmPBS/S7ZEk2oWGOp2aiIgATzzxBO3atWPevHmsW7eOO++8kwULFnDRRRdRWloKgLWWxMRE1q1bx/z581mxYgVFRUWMGDGC3bt3VzjfrbfeysKFC5k1axarV68mKiqKSy65hM2bN1eImzZtGjNmzOCee+5h7dq1DB06lNGjR7NmzRqv3XutrLVt5nXGGWdYEWnZ8rZutduuutqm9O1nd0+caIuzspxOySuAjbYZ9KPefKnPlrYkJSXF6RQa1YEDByq1vfnmmxawH3/8sbXW2g8++MACdsOGDZ6Y7Oxs63K57Pjx4z1tmzdvtoBdtGiRp62oqMj26dPHJiYmetrS09Otv7+/nT59eoXrjhw50g4YMKDR7s3a2r9fNfXZGvkWkRbBFhWR8eKLpI2+nuKMDHq88DzdH3uMdmFhTqcmIiIniIiIqNR25plnArBnzx4AVq1aRbdu3RgxYoQnJjQ0lMTERFauXOlpW7VqFX5+fowZM8bT5uvry9ixY1m/fj0FBQUArF+/nsLCQsaNG1fhuuPGjWPLli2kpaU13g02gB64FJFmL//779n30CTyU1LoePnldJk6BV+Xy+m0RESa1tqHYH/l+c9e1XUAXPZIo5zqs88+A+DUU08FIDk5mf79+1eKS0hI4K233uLo0aOEhISQnJxMbGwswcHBleIKCwtJTU0lISGB5ORkAgICiI+PrxQHkJKSQmxsbKPcS0Oo+BaRZssWF3PotUVkPP887Tp0oPuzz9LxkoudTktEROppz549TJ8+nQsvvJAhQ4YAkJmZSUxMTKXYTp06Ae6HMUNCQsjMzMRVxYBLeVxmZqbnY1hYGMaYGuOcpuJbRJqlgtRU9k6aTP6WLXS47FK6TpuGb1kHKiLSJjTSiLPTjh49ypVXXomvry+vv/660+k4TsW3iDQrtqSEzNdfJ+PZ5/Bp357uTz9Fx8suczotERE5CXl5eSQmJrJ9+3Y+++wzevTo4XnP5XKRlZVV6ZjyEery0W6Xy8XOnTurjSsf2Xa5XGRnZ2OtrTD6fWKc0/TApYg0GwXbt7Pzlzdw4IknCTn/fOJWf6jCW0SkhSoqKuK6665j48aNrFmzhgEDBlR4v3ye9olSUlKIjo4mJCTEE5eWlkZubm6lOH9/f88c74SEBAoKCti2bVulOIDTTjut0e6tIVR8i4jjbEkJhxa9TtpVV1O4YwfdnnyC7s89i294uNOpiYjISSgtLeWGG25gw4YNfPDBBwwdOrRSzKhRo9izZ4/nQUyAw4cP8+GHHzJq1ChPW2JiIkVFRSxbtszTVlxczNKlS7n44osJCAgA4NJLL8XPz48lS5ZUuM7ixYvp379/s3jYEjTtREQcVpCWxr7JU8jbtImQCy4gasbD+FaxRJWIiLQcd999N8uWLWPKlCm0b9+er7/+2vNejx496NGjB6NGjWLYsGGMGzeOxx9/HJfLRVJSEtZaHnzwQU/8oEGDGDNmDBMmTKCoqIjY2FgWLFhAWlpahUI7MjKS+++/n6SkJDp06MDgwYNZunQpGzZsYNWqVV69/xpVtwB4a3xpwwaR5qO0pMQeeuMNu/X0gfa7s8622StX2tLSUqfTarbQJjsirVpr22SnV69eFqjy9fDDD3viDh06ZG+55RbrcrlsUFCQHTlypN28eXOl8+Xm5tr77rvPdunSxQYEBNizzjrLfvLJJ5XiiouL7ezZs210dLT19/e3AwYMsMuWLWv0+2vIJjvG/X7bMGTIELtx40an0xBp8wp37mTvlCnkbfyGkPPPp+vMmfh1iXQ6rWbNGPONtXaI03l4k/psaUu2bt3qWf9amr/avl819dmadiIiXmNLS8la8gcOPPkkxs+PqEeSCL3yykprsoqIiLRWKr5FxCsKf/yRfZOnkPvPf9L+vHOJmj0bvy5dnE5LRETEq1R8i0iTsqWlZL37LgeeeBLj40PU3DmEXnONRrtFRKRNUvEtIk2mcPce9k2dSu7XX9P+nHOImjMbv6gop9MSERFxjIpvEWl01lqyl77HgcceA2PoOmsmYaNHa7RbRETaPBXfItKoivbuZd/UaRz7298IHjaUbnPm4Ne9u9NpiYiINAsqvkWkUVhryVmxgvSkR7DW0nXGw4SNGaPRbhERkeOo+BaRBivav59906Zz7K9/Jfjss4maOwf/Hj2cTktERKTZUfEtIifNWkvO+38k/ZFHsMXFdJk2FdcvfoHx8XE6NRERkWZJxbeInJSi9APsmz6NY599TtCQM+g2bx7+0dFOpyUiItKseX14yhjT0xiz3BiTY4w5bIx53xhT609sY0wvY8xKY8xOY0yeMeagMeYzY8zPvZG3iLhZa8lZuZLtiYnk/v0fdJk8mV5vvaXCW0REPD799FOMMZVeYWFhFeKysrK47bbbCA8Pp3379lx44YVs2bKl0vny8/OZOHEiUVFRBAUFMWzYMD7//PNKcaWlpSQlJRETE0NgYCADBw5kxYoVTXafJ8OrxbcxJhjYAPQDbgZuBHoDnxhj2tdyeAhwEJgK/By4FTgC/MkYc02TJS0iHsUZGey++x72/v4hAuLjifvgj3S66UZNMxERkSo999xzfPXVV57XX/7yF8971loSExNZt24d8+fPZ8WKFRQVFTFixAh2795d4Ty33norCxcuZNasWaxevZqoqCguueQSNm/eXCFu2rRpzJgxg3vuuYe1a9cydOhQRo8ezZo1a7xyv3VirfXaC7gXKAHij2uLBYqB+0/ifL7Aj8CHdYk/44wzrIjUX2lpqc1e9aH971ln262nD7QHF71uS4uLnU6rTQE2Wi/2183hpT5b2pKUlBSnU2hUn3zyiQXsRx99VG3MBx98YAG7YcMGT1t2drZ1uVx2/PjxnrbNmzdbwC5atMjTVlRUZPv06WMTExM9benp6dbf399Onz69wnVGjhxpBwwY0Bi35VHb96umPtvbw1WjgK+ttanlDdbaNOBL4Mr6nsxaWwzk4C7eRaQJFB88yJ7f/pa9EyfiHxND7B//SOdbfoVp187p1EREpAVbtWoV3bp1Y8SIEZ620NBQEhMTWblyZYU4Pz8/xowZ42nz9fVl7NixrF+/noKCAgDWr19PYWEh48aNq3CdcePGsWXLFtLS0pr4jurG2w9cJgArq2hPBkbX5QTGGB/c02XCgduBPrhH1EWkkR1es4b9s2ZTmptL5MQH6PQrFd0iIt7y6D8e5bvM7xzNoV+nfvz+rN+f9PE33HADBw8eJCwsjEsuuYRHHnmE6LJnhJKTk+nfv3+lYxISEnjrrbc4evQoISEhJCcnExsbS3BwcKW4wsJCUlNTSUhIIDk5mYCAAOLj4yvFAaSkpBAbG3vS99JYvF18dwKyqmjPBFx1PMdjwO/KPj8KjLXWflxdsDHmdtxFuuebLSI1K87MZP/MWRxZv57A00+nW9I8Ak45xem0pA1Qny3SOoSGhvK73/2O4cOH07FjRzZt2sS8efMYNmwYmzZtIjIykszMTGJiYiod26lTJ8D9MGZISAiZmZm4XJXLxPK4zMxMz8ewsLBKm7udGOe0lrjU4DPAu0BX4CbgD8aY66y1q6sKtta+ArwCMGTIEOu1LEVaqMPr1rN/1ixKjxwh4v776fx/t2B8W2JXIS2R+myR/2nIiLPTBg0axKBBgzxfDx8+nPPOO4+zzjqL5557jjlz5jiYnbO8/RM1i6pHuKsbEa/EWrsbKH8EdrUx5lPgCaDK4ltE6qY4K4v02bM5vGYtgQkJRL3xOoF9+jidloiItBKDBw+mT58+/POf/wTA5XKRlVW5/CsfoS4f7Xa5XOzcubPauPKRbZfLRXZ2NtbaCqPfJ8Y5zdsPXCbjnvd9otOAlJM850YgvtYoEanW4Y8+YvsViRz+6C9ETLiXmHffUeEtIiJNorwwLp+nfaKUlBSio6MJCQnxxKWlpZGbm1spzt/f3zPHOyEhgYKCArZt21YpDuC0005r9Hs5Gd4uvlcBQ40xceUNxpgY4Jyy9+ql7OHLnwHbaosVkcqKs7LY88BE9oz/Lb5dIoldvozw3/wG4+fndGoiItLKbNy4kf/+97+cddZZAIwaNYo9e/bw2WefeWIOHz7Mhx9+yKhRozxtiYmJFBUVsWzZMk9bcXExS5cu5eKLLyYgIACASy+9FD8/P5YsWVLhuosXL6Z///7N4mFL8P60k4XAPcBKY8xUwAKzca/V/XJ5kDGmF+6Cepa1dlZZ2wzc01O+BPbjnvN9K3AW8Evv3YJI63Bkwwb2PfwwJVnZhI+/h/Dbb1fRLSIijeKGG24gNjaWwYMHExYWxqZNm0hKSqJ79+789re/BdzF97Bhwxg3bhyPP/44LpeLpKQkrLU8+OCDnnMNGjSIMWPGMGHCBIqKioiNjWXBggWkpaVVKLQjIyO5//77SUpKokOHDgwePJilS5eyYcMGVq2q9xhvk/Fq8W2tPWaMGQk8DbwNGOBjYIK19uhxoQZoR8WR+W+BCcBYIBR3Af4v4Fxr7ZdeSF+kVSjJySF93jxyVq4ioG9fol95hcBTT3U6LRERaUX69+/PO++8w/z588nNzaVr165cc801zJw5k/DwcAB8fHxYvXo1DzzwAHfddRf5+fkMGzaMTz75hJ49e1Y43+uvv86UKVOYOnUq2dnZDBw4kHXr1jF48OAKcXPnziUkJIRnn32W/fv307dvX9577z2uuOIKr917bYx7E562YciQIXbjxo1OpyHimCOffsr+6Q9TfOgQ4Xfc7p5i4u/vdFpSB8aYb6y1Q5zOw5vUZ0tbsnXrVsRe/EUAACAASURBVE7VQEiLUdv3q6Y+W+uHibQBJYcPk/7Io+S8/z4BvXvT48UXCepf1bPPIiIi0pRUfIu0ckf/+lf2TZ1GcUYGne+4g/C778JHo90iIiKOUPEt0kqVHDlC+qOPkrN8Bf7xpxDz/HyCBgxwOi0REZE2TcW3SCt09Msv3aPd6el0/vVthN9zDz5lSzGJiIiIc1R8i7QiJUePceDxx8leuhT/2Fhi3vkDQQMHOp2WiIiIlFHxLdJKHPv6a/ZNnkLRvn10+r//I+K34/EJDHQ6LRERETlOnYtvY0x34CJgKNANCAIOAv8FPgM+s9aWNkWSIlK90mPHOPDkk2T94R38e/Wi15IlBA8e5HRaIiIiUoVai29jzHBgInAJ7o1vdgMZQB4wEEgEpgP7jDELgaestYebLGMR8Tj2j3+4R7v37KHTzTcTMeFefIKCnE5LREREqlFj8W2M+RMwAvgQuB74q7X24AkxPkB/3EX4L4G7jTHjrLXrmyZlESnNzeXAU0+TtXgxftHR9Hr7LYKHtKn9V0RERFqk2ka+vwdutdbury6gbKrJv8tec40xo3Bv/y4iTSB340b2Tp5C0a5duG68kcj7JuATHOx0WiIiIlIHPjW9aa29r6bCu5pjVllr32tYWiJyotK8PNKTkth5401QWkr0m2/SdcpkFd4iItIs7d69m/HjxzNs2DCCg4MxxrBjx45Kcfn5+UycOJGoqCiCgoIYNmwYn3/+eaW40tJSkpKSiImJITAwkIEDB7JixYoqr71w4UL69etHQEAAffv25aWXXqoy7oMPPmDQoEEEBgbSq1cv5syZQ0lJSYPuuzY1Ft91YYzp3BiJiEj1cr/dRNpVV5P55lu4fvEL4lZ+QPuzz3I6LRERkWqlpqby3nvv4XK5OPfcc6uNu/XWW1m4cCGzZs1i9erVREVFcckll7B58+YKcdOmTWPGjBncc889rF27lqFDhzJ69GjWrFlTIW7hwoXccccdXHvttaxbt47Ro0dz1113sWDBggpx69ev59prr+XMM89k7dq13HvvvcyZM4fJkyc33j9CVay1dXoBvwYmHvf1ANwPX5YAG4GudT2XU68zzjjDirQkJXl5dv+jj9mUfqfaH0aMtEe/+srplMQhwEbbDPpRb77UZ0tbkpKS4nQKja6kpMTz+cKFCy1g09LSKsRs3rzZAnbRokWetqKiItunTx+bmJjoaUtPT7f+/v52+vTpFY4fOXKkHTBgQIVjIyIi7E033VQh7pZbbrGdO3e2hYWFnraf/OQn9rzzzqsQN3PmTOvn52f37dtX473V9v2qqc+uz8j3eNwrnJR7CsgGJuCe4z2rYb8GiMjx8jZvJu3qa8hctIiw668ndtUq2g8d6nRaIiIideLjU3uZuWrVKvz8/BgzZoynzdfXl7Fjx7J+/XoKCgoA9yh1YWEh48aNq3D8uHHj2LJlC2lpaQB89dVXZGRkVIq78cYbOXToEF988QUAP/74I5s3b64yrqioiLVr19b/huuoPpvs9AK+AzDGhALDgaustWuMMYeApCbIT6TNKS0o4ODzz3PotUX4dulCz9deJeScc5xOS0REvGz/vHkUbP3O0RwCTu1H1yachpGcnExsbCzBJzy/lJCQQGFhIampqSQkJJCcnExAQADx8fGV4gBSUlKIjY0lOTkZgP79+1cbN2LEiGrjynNJSUlpvJs8QX2Kbx+gfBOdnwEW+LTs6x+ByMZLS6Rtytuyhb2TJlGYuo2w0dcR+eCDtOvQwem0REREmkRmZiYul6tSe6dOnTzvl38MCwvDGFNrHFDpnHWNK28rf78p1Kf4/gG4HNgAjAX+Zq3NLXuvG9B0WYq0cqWFhRx84UUOvfoqvuHh9Fz4CiE1PJwiIiKtX1OOOItz6lN8PwG8bYy5GXABo497bwTudb5FpJ7y/pPMvkmTKPjhB0KvuYYuD/2edh07Op2WiIhIk3O5XOzcubNSe/nIc/mItcvlIjs7G2tthdHvquIAsrKyiIqKqlPcibKysjxxTaHOD1xaa/+Ae553EjDCWvv+cW+nA/MbOTeRVs0WFpLx3HPsGDOGkuxsery0gG7z5qrwFhGRNiMhIYG0tDRyc3MrtKekpODv7++Z452QkEBBQQHbtm2rFAdw2mmneeIAz5zu+sbt2LGD3NxcT1xTqNc639baL6y1T1prPz+h/WFr7ZrqjhORivK3biVt9PUcfHEBoVdcQdzqD+lw/vlOpyUiIuJViYmJFBUVsWzZMk9bcXExS5cu5eKLLyYgIACASy+9FD8/P5YsWVLh+MWLF9O/f39iY2MBGDZsGOHh4VXGderUiXPKFjCIjo5m4MCBVcb5+flx2WWXNfq9lqtx2okxJspau6++JzXGdLX13BlTpC2wRUUcfPkVDr70Eu1cYfR48QU6jBzpdFoiIiJNYvny5QB88803AKxdu5aIiAgiIiIYPnw4gwYNYsyYMUyYMIGioiJiY2NZsGABaWlpFQrjyMhI7r//fpKSkujQoQODBw9m6dKlbNiwgVWrVnni/Pz8mD17NnfddRfdu3fnwgsvZMOGDSxatIj58+fj7+/viZ03bx5XXHEFd9xxB7/4xS/YtGkTc+bM4d5776Vr165N949S3QLg7vXBOQY8C/SrKa4sNgj4JbAZmFpbvBMvbdggTsr77ju77eqrbUrffnb37x6wRZmZTqckLQjaZEekVWuNm+xYay3u1fEqvYYPH+6Jyc3Ntffdd5/t0qWLDQgIsGeddZb95JNPKp2ruLjYzp4920ZHR1t/f387YMAAu2zZsiqv+9JLL9nevXtbf39/Gx8fb1944YUq41asWGFPP/106+/vb3v27Glnzpxpi4uLa72vhmyyY9zvV80YcwbwGHA+7gcq/wr8C8gACnA/eBkHnAWMxL0U4WPAU9ba/Eb8HaFRDBkyxG7cuNHpNKSNscXFHHr1VTJeeJF2HTvSdcbDdLzoIqfTkhbGGPONtXaI03l4k/psaUu2bt3Kqaee6nQaUke1fb9q6rNrnHZirf0GuKCsCL8NuAK454SwfODvwIPAEmvtkXrkLtKq5X//PfsmTSY/OZmOP/85XaZNxbeKNUVFRESkbajTUoNlRfg3AMaYSNzregcCh4Ad1tqiJstQpAWyxcUcem0RB59/Hp+QELo/8wwdL73E6bRERETEYfVZ5xsAa+0B4EAT5CLSKhRs28behyaRv2ULHS6+mK4PT8e3c2en0xIREZFmoN7Ft4hUzZaUkPnGG2Q8+xw+wcF0f+pJOlx2WaWtcEVERKTtUvEt0ggKtqexb9Ik8v71LzpcdCFdH34Y3/Bwp9MSEZEWxJ6we6M0TzUtVlIXKr5FGsCWlJD51ttkPPMMJjCQbo8/TscrLlfnKSIi9eLn50deXh7BwcFOpyK1yMvLw8/P76SPV/EtcpIKd+xg7+Qp5H37LSEjRtB15gz8IiOdTktERFqgyMhI9uzZQ/fu3QkKCtIgTjNkrSUvL489e/bQpUuXkz6Pim+RerKlpWQtXsyBp57G+PvT7dFH6DhqlDpKERE5aR07dgRg7969FBVpEbnmys/Pjy5duni+Xyej3sW3MSYcGAp0Bj601mYaYwKBQmtt6UlnItICFO7axd7Jk8nb+A3th59H1KzZ+HXRaLeIiDRcx44dG1TUSctQ5+LbuIf1HgPGA/64twc9E8gEVgJfALObIEcRx9nSUrKW/IEDTz2FadeOqHnzCL36Ko12i4iISL341CN2Eu7dLWcBZwPHVx0f4t79UqTVKdy5k1033Uz63LkEn3EGcas/JOyaq1V4i4iISL3VZ9rJbcAsa22SMabdCe+lAqc0Xloizqswt9vPj6i5cwlV0S0iIiINUJ/iuzvwdTXvFQLtG56OSPNQuGMHe6dMJe+bsrndM2fi17Wr02mJiIhIC1ef4nsP0B/4pIr3BgJpjZKRiINsSQmZb79NxtPPYAICiHokidArr9Rot4iIiDSK+hTfy4Dpxphv+d8IuDXG9AF+B7zS2MmJeFPB9jT2TZ5M3ubNhJx/Pl1nztRKJiIiItKo6lN8zwB+CnwO7CxrWwb0BP4GPNKomYl4iS0pIfONN8l47jn3LpWPPUrHxESNdouIiEijq3Pxba3NM8acD/wSuAT3Q5aHcC8vuMRaW9wkGYo0oYLt29k3aTJ5//oXISNH0nXGw9qlUkRERJpMvTbZsdaWAG+XvURaLFtcTOYbb5Dx3Hx8goLo9vjjdLzico12i4iISJM66e3ljTGV1gjXDpfSEhSkprJ38hTy//1vOlx0IV2nT8c3IsLptERERKQNqPMmO8aYIGPMI8aYbcaYAqDohFdhHc/T0xiz3BiTY4w5bIx53xgTXYfjhhhjXjHGfGeMyTXG7DLGLDHGxNb1HqRts8XFHHz5FdKuvoaiXbvo/tSTdH/uORXeIiIi4jX1Gfl+EbgB926W71LHYvt4xphgYANQANyMe4v6OcAnxpjTrbXHajh8LJAAPAck4153fBqw0RjzE2vtj/XNR9qO/O+/Z9/kKeT/5z90uPhiuk6fhm94uNNpiYiISBtTn+J7FPCAtfa5Blzv10Ac0NdamwpgjPk38ANwB/BUDcc+aq3NOL7BGPMl7vXFfw1Mb0Be0krZoiIOvfYaB194EZ+QELo/8zQdL73U6bRERESkjarztBPco9VbG3i9UcDX5YU3gLU2DfgSuLKmA08svMvadgIZuEfBRSrI/+9/2TFmLBnPPEvIhRcQ96fVKrxFRETEUfUpvt/APfWjIRKA/1TRngycVt+TGWNOBSJp+C8F0orYoiIyXnyRtOtGU5SeTvdnn6XH00/j26mT06mJiIhIG1efaSfTgAXGmD8D64GsEwOstYtqOUenqo4DMgFXPXLBGOMLvIR75Pu1GuJuB24HiI6u9blOaeHyt25l7+QpFGzdSsef/5wu06bi66rXf1oi4iD12SLS2tWn+D4D97SRSODCKt63QG3Fd2N6HveOm5dba6sq6AGw1r4CvAIwZMgQ66XcxMtsYSEHX36Fgy+/TLuwMLrPf46OF13kdFoiUk/qs0WktatP8f0S7h0tfw18x0msdoJ71LuqYcjqRsSrZIx5BPfIyM3W2j+fRB7SiuSnpLhHu7/7jo6JiXSZPEmj3SIiItIs1af47gdcZ61d04DrJeOe932i04CUupzAGDMF+D0w3lqrnTbbMFtYyMGXXuLgKwtp5wqjxwvP0+GCC5xOS0RERKRa9Xng8r9A+wZebxUw1BgTV95gjIkBzil7r0bGmN/iXhd8irX2+QbmIi1Y3n+SSbtuNAdfXEDo5ZdzyocfqvAWERGRZq8+xfdDwFRjTK8GXG8hsANYaYy50hgzClgJ/Ai8XB5kjOlljCk2xkw/rm0s8AywDthgjBl63KveK6VIy1RaWMiBp59hx5gxlGRl0WPBi3R79BHahYU5nZqIiIhIreoz7WQq7octvzfGfE/lOdrWWju8phNYa48ZY0YCTwNvAwb4GJhgrT16XKgB2lHxl4NLy9ovLXsd7zPg/Hrci7RAeVv+w77Jkyj4IZXQq6+my0O/p11oqNNpiYiIiNRZfYrvEtwPWjaItXYXcG0tMTtwF9rHt/0K+FVDry8tT2lBAQeff4FDixbhGx5Oz5dfImR4jb/niYiIiDRLdS6+rbXnN2EeIlXK+9e/2Dt5CoXbthF67TV0+f3vadexo9NpiYiIiJyU+ox8i3hNaUEBB+fP59Ci1/GNjKTnwlcIOfdcp9MSERERaZAai29jzHnAt9bao2Wf18ha+3mjZSZtVu6mTeybMpXC7dsJG30dkQ8+SLsOHZxOS0RERKTBahv5/hQYCvyj7PPqdhszZe+1a6zEpO0pzc8n49nnyHzjDXy7dqXnq68S8rNznE5LREREpNHUVnyP4H+b34yk+uJbpEFyv93EvsmTKdyxg7AxY4ic+ADtQkKcTktERESkUdVYfFtrPzvu80+bPBtpc0rz8sh45lky33oLv6goohe9Rvuf/tTptERERESaRJ032THGbDfGDKzmvf7GmO2Nl5a0BbkbN7L9qqvIfPNNXL8YS+yqVSq8RUREpFWrz2onMUBANe8FAg3Z+VLakNLcXA48/QxZixfj160b0W+8QfuhZzudloiIiEiTq+9Sg9XN+R4CZDcwF2kDcv/5T/ZOmUrRrl24fvlLIn93Pz7t2zudloiIiIhX1LbU4H3AfWVfWuBDY0zhCWFBQCfg3cZPT1qL0mPHOPDU02QtWYJfz55Ev/km7c8+y+m0RERERLyqtpHv7cDHZZ/fDGwEMk6IKcC9IsqrjZuatBbHvv47+6ZOpWj3blw33kjkfRPwCQ52Oi0RERERr6tttZOVwEoAYwzALGttmhfyklag9NgxDjz5JFl/eAe/XtH0Wvw2wUOGOJ2WiIiIiGPqPOfbWntLUyYircuxr75i39RpFO3dS6ebbyJiwgR8goKcTktERETEUfV94FKkRiVHj3Hg8cfJXroU/1696LVkMcGDBzudloiIiEizoOJbGs2xv/2NvVOnUrxvP51uuYWI347XaLeIiIjIcVR8S4OVHD3KgUcfI3vZMvxjY+m1ZAnBgwc5nZaIiIhIs6PiWxrk6F+/YN/06RSnp9Pp1v8jYvx4fAIDnU5LREREpFlS8S0npeTIEdIffZSc5Svwj4sj5p0/EDRwoNNpiYiIiDRrKr6l3o5+/jn7pk2nOCODzr++jfB77sEnIMDptERERESaPRXfUmclhw+T/sij5Lz/Pv7xpxAz/zmCTj/d6bREREREWgwV31InRz79lP3TH6b40CE633EH4XffhY+/v9NpiYiIiLQoKr6lRiU5OaTPSyJn5UoCevemxwsvEDSgv9NpiYiIiLRIKr6lWkc2bGD/wzMozsyk852/IfzOOzXaLSIiItIAKr6lkpLsbPbPncfhDz8koG9fery0gKCEBKfTEhEREWnxVHxLBUf+8hf2zZhJSXY24XffTfgdt2M02i0iIiLSKFR8CwDFWVmkz5nL4T/9iYB+/Yhe+AqBp57qdFoiLV5OQQ7bsreRmp3KD1k/kJqdyilhpzB16FSnUxMREQeo+BYO//nP7J85i5KcHMLH30P47bdj/PycTkukRcktymV7znZPgZ2anUpqVioH8g54YkL8QogPiycyONLBTEVExEkqvtuw4sxM0ufM4fCatQScdirRr71KYL9+Tqcl0qwVlRSRdjiN1Cx3gf1D9g+kZqWy5+geLBaAgHYBxIXGMbTbUOLD4okPi6e3qzddgrtgjHH4DkRExEkqvtuow+vWs3/WLEqOHCHi3t/S+bbbNNotcpyS0hJ2H91NalZZgV02kr3z8E6KbTEA7Uw7YjrGkBCewJXxV9I7rDfxrnh6hPSgnU87h+9ARESaIxXfbUzxoUPsnz2HI+vWEZiQQPTrrxPYt4/TaYk4xlpLem56hekiP2T9wPac7RSUFHjieoT0IN4Vz8joke7RbFc8MR1j8G+nB5JFRKTuVHy3EdZajqxdy/7Zcyg9epSI++6j863/h/HVfwLSdmTmZ1YayU7NTuVo0VFPTGRQJPGueMZ0HeOZLhIXGkewX7CDmYuISGuhyqsNKD54kP0zZ3Hko48IHDCAbvPmEtC7t9NpiTSZo4VH//fQY1mR/UP2D2TmZ3piQgNCiQ+L5/K4yz3TReLD4gkNCHUwcxERae1UfLdi1loO/2kN6bNnU5qbS8Tv7qfzLbdotFtajfzifNJy0io8+Jiancq+Y/s8MUG+QcSHxTO8x3DPdJHeYb0JDwrXw48iIuJ1qsJaqeKMDPbNnMnRv3xM4MDT6TZ3LgHx8U6nJXJSikuL2XV4V6XpIruO7KLUlgLg5+NHbGgsgyIHcb3res8qI91CuuFjfBy+AxERETcV362MtZbDq1ezf85cbF4ekRMn0ulXN2PaaeUFaf5KbSl7j+6t8OBjanYqaTlpFJUWAeBjfIjuEE18WDyXxl7qnpcd1pueHXvi56MVe0REpHlT8d2KFKUfYP+MGRz95BOCfvIToubNJSAuzum0RCqx1nIw72CFqSLlr7ziPE9cVPso4sPiOaf7Oe552WHxxIXFEdAuwMHsRURETp6K71bAWkvOypWkz0vCFhQQ+fvf0+mmGzXaLc1CTkFOhYcey4vsnIIcT0znwM7Eh8VzTe9rPNNF4sPiCfEPcTBzERGRxqfiu4UrSk9n//SHOfrZZwQNHkzU3DkExMY6nZa0QfXZXv2iXhcRHxZPH1cfTgk7hU6BnRzMXERExHtUfLdQ1lpy/vgB6UlJ2KIiukx6CNe4cRrtliZX1+3VTwk7Rduri4iInEDFdwtUtH8/+6ZP59jnfyVoyBl0mzsX/169nE5LWpm6bK/ua3zp1bEXCeEJXBV/lWcZv+4h3bW9uoiISBVUfLcg1lpyVqwg/ZFHsSUldJkyBdcNv8T4aBk1OXl12V7dYOjRoQfxYdpeXUREpCG8XnwbY3oCTwMXAQb4CzDBWrurDsfOA4YAZwCdgFustW80XbbNR9HeveybNp1jX35J8JlnEjV3Dv7R0U6nJS1MfbZXH9t1rGckOzY0Vturi4iINAKvFt/GmGBgA1AA3AxYYA7wiTHmdGvtsVpOMR7YDKwGbmrKXJsLay3Zy5Zx4NHHsNbSZdpUXL/4hUa7pUZ13V69d1hvroi7gt6u3pwSdoq2VxcREWli3h75/jUQB/S11qYCGGP+DfwA3AE8VcvxodbaUmNMPG2g+C7as8c92v23vxF89tlEzZmNf8+eTqclzUhdt1fvHdab83ueX+Hhx86BnfXwo4iIiJd5u/geBXxdXngDWGvTjDFfAldSS/Ftbdk+0q2ctZbspe9x4LHHAOg642HCrr9eo91tWFFpET8e/rHW7dXjQuMY3GWwZ9fHeFc8Ue2jtL26iIhIM+Ht4jsBWFlFezIw2su5NEuFu3ezb+o0cr/+muBhQ4maPQf/Ht2dTku8pD7bq/d29eay2Ms8Dz9Gd4jG10fPUIuIiDRn3v5J3QnIqqI9E3A1xQWNMbcDtwNEN+MHFG1pKVnvvsuBJ57EAF1nziTs+tGaFtBK1XV79W7tuxHviudn3X/mmS4SGxqr7dWl1WopfbaIyMlq9cNk1tpXgFcAhgwZYh1Op0qFP/7IvilTyf3HP2j/058SNXsWft012t1a1Hl7dVc81/a+1jOSfUroKdpeXdqcltBni4g0hLeL7yyqHuGubkS8VbOlpWT94R0OPPkkxseHrrNnEXbddRrtbqHqsr16B78OxLviubjXxZ6RbG2vLiIi0nZ4u/hOxj3v+0SnASlezsVRhbt2sW/yFHI3bqT9uecSNWsmflFRTqcldVBYUuhZYWRb9jbP1JHdR3d7Yo7fXr38wcf4sHhtry4iItLGebv4XgU8YYyJs9ZuBzDGxADnAA95ORdH2NJSshYv5sBTT2P8/IiaO5fQa65WQdYM5Rfns+PwDrZlb2N7znbSctLYlr2NXYd3VdhePSY0hv7h/bW9uoiIiNTK28X3QuAeYKUxZiruTXZmAz8CL5cHGWN6AduAWdbaWce1DwcigK5lTUOMMUcBrLXLvXIHDVC4Ywd7p0wl75tvaD/8PKJmzsSva9faD5QmlVOQQ1pOGttztrM9e7v7Y8529h7di8U95dTH+NCzQ09iQ2O5IPoCert6Ex/m3l7dr52fw3cgIiIiLYVXi29r7TFjzEjc28u/jXt7+Y9xby9/9LhQA7QDTlyceCYw/Liv7y57lR/TLNmSEjLffpuMp5/B+PsTlZRE6FVXarTbi6y1ZORlVCiwywvug3kHPXH+Pv7EhMYwIHwAV55yJXFhccSFxtGrYy/82/k7eAciIiLSGnh9tRNr7S7g2lpidlBFMW2tPb9psmo6BdvT2DdlCnmbNhFy/vl0nTkDvy5dnE6r1SopLWHv0b2e0evyV1p2GkeKjnjiQvxCiAuN45xu5xAXFscpoacQFxpHt5Bumi4iIiIiTabVLzXoFFtSQuabb5Hx7LOYwEC6PfYoHRMTNdrdSApLCtl5eGeF4np7znZ2HN5BQUmBJ65zYGfiwuL4edzPiQuN84xkRwRF6HshIiIiXqfiu4nYggKy3nmH9uecQ9cZD+MXGel0Si3SsaJjVc7H3n1kNyW2BACDoVtIN2JDYxkaNdRTYMeGxhIaEOrwHYiIiIj8j4rvJuITHEzMu+/QrlMnjbDWQWZ+ZoW52OUrjKTnpntifI0v0R2j6ePqwyUxl7hHskPjiAmNIcg3yMHsRUREROpGxXcT8u3c2ekUmhVrLfuP7feMXm/L3uYZ1c4uyPbEBfkGERsay5ldz/QU2LFhsfTs0BM/H60sIiIiIi2Xim9pdMWlxfx45MdKo9hpOWnkFed54sICwogLjeOC6AsqzMfu2r4rPubEhW5EREREWj4V33LSyjeh2Z69nW05ZaPY2dvZeWQnxaXFnrguwV2IC43jmt7XeOZia0t1EZH/b+/egyQryzuOf389szO7LHIVUsrFBaFAwGgqpOIVVkwQlRK1ADViggZvuUkpsaKJShRvRRIiYsRr8YeUGu9SRRAUJGrQiCIqKgm4a0BBWIVluewsO/3kj/c93afPdM/07HT3men5faoOp8973vO+z3t2ePvp06e7zWw1cvJtC7pvx33tDzv28SM0xx90PIfueSiP3euxHLLnIaxfs77mEZiZmZktD06+DUj3Y295aAu3br3VP0JjZmZmNiROvlcZ/wiNmZmZWX2cfI8p/wiNmZmZ2fLj5HuF6/YjNJu2buK2bbf5R2jMzMzMlhkn3ytE9Udoiu/J7vYjNIfvfTgnbjjRP0JjZmZmtsw4+V5Gqj9CU76a7R+hMVvmImD2Ydi5HWZ3pPXOmbTMzrQf75yB3faBA4+tO2IzM6uBk+8aVH+Epvw92f4RGrNFiigluzv6S35nZ3rU+u+CbgAAE8VJREFUL7a71V9oe3v/MR9+Irz0M8M7J2Zmtmw5+R6i8o/QlK9k+0dobCxEDDGxne/4Lu0NQmMNTE6nZWK6/XhyGibXwsQU7LZ77zoTXepProXJqcr2NKzbezAxm5nZiuPke0ia0eS4Tx/XupLtH6GxgWk2O6/s9p289nMVt59kt7QehImpBRLZaZjavf/Etmdi3K1+sT0NDb+bZGZmw+fke0gaanDOseew5/Se/hGacdFsLvGq7nyJ7SJubxhY0jtPsltsr92jz+R1F5PfiSknvWZmtqo4+R6i0484ve4Qxkf5w2xFIttxlbe63tGjvJrwVtcz3csHmfQWV1p7Xeldsw7W7rX4K7eLvQXC3+NuZmY2ck6+rT/N2blJbM8Ed1eS4j6OIZY2BjVgcl07IZ0sX63N6+lHVJLd6noxV3q7JL8Ta5z0rmLNZjAb6e94zYSv+JuZrUZOvleC4oNtXZPVcjI8gAS31zGlD4jusiJZ7ZXYTu8B6/frkvBWr94W5V2S4jnHlhNf/7l3ExE0A5oRzDajvW7CbKTtImlcVHne16089ZHKIx/fT3m5z3bf85QXx7bK6YihGOtiy5tBR2zl+NK5iNKYaZ2jwglH7s/Hz/yDGv/VrZv7rriCHZs2Aen/CyLar/mL7VzQ2k8uKm/TfhxFG6263dqp9FFqp2s/Rd1if+vYbv2U26mOpVs73ffPO5ZirHSJdaF+erbT45xEdN9fehyU+ihT+WHeUI91R1mPY+Y7fql9tfYtrq+irGef8xzf+avW/cTcI9Yh9tUaX1/np1I+X6wL/Ftoapr93/B6BsXZyBBtu/YDaMd9sHMGlZJlzW5vlbUez+5As+2ytE63OjQG8G0OzcYaYmKKmJimOTFdWefyyX1oTk/TbLTLi32zE+3y2UY6tjkxRbMxzWxxfCPXm5imqSlmJ6ZoTkwz25ii2Zhqz5Wt/6RJtvrckR5Hx9zanvwrc+7OIB5ut9ua2FuPHyJ4cME+0lwec5435sQIlQQycqJIJVHsXV5OyDqS10WUt9d09NetvLW/2SPJXuIbCnWaaIgJiUaDtJZoNMREIz2eyOVSKkvltPY3cnmjISZK5ZONBtOTc8ur9RtF/61+cxytuDrjKMo3PNIfsl6Otn75Mu6/+uqFK5afsCuPVa5TrddKjHrsz49b+7scmx7nh3Tb12V/13YqCVqXPjoSlYXa6XlOFu6nOpa556eIpXcMHUlntQ8ovRChM1mHUrJertO9bked8ouSbsf0Or78AqFHX9GjnTkvLBbqq3xMv+Mqv4jsNr75ji8/B/eKta9/i+H31e5z4b4a69c7+V4pdl7zbvZmG80QM6xpL7GGGabYwWTensr7dmOGPZmJNewo1++osyYdV9outzkzp83UVpNhv8UdwPa8rG5SJQErkrRSQjZfuXKy104g2+VTk42O8oZKyWSut9jy+eNJdaVKeYPOZLSV3C6xfJ5kulu52SAdeOH70pNtr6RZo/mbi5ycNaOZX/ynx81oAunbtJo0U70ImlT2VR6X22vShEj7Zunc11Gv0nfrMXPbrD4uYqvGOKet/Lh63JLjqdSD9gsAkeaz9guCXJbLO+pq7jHdjivqltvo1teC+zW3XjW2jr4qfc/Z32U8iz0P6cUMHdu94uwWW/nFVwT5Yo8o3rxoXRALdbxZEqX9tOop7wua0W6zXVeti3vNvBTHNyM69kdTNPOFtYjyY9plERCiCUw2JjicwXHyPUTXnPQ1ZmKCULrPt3iRr9Ifcunvs/VH3ADWCdZRXBgo/qjbbStfHSi31eUiQNrTpY+OYzuuTMxTr9IWPftWqd12H33FUqpDj/LqOVn0eHv1IXXE22u8rUS2R1I7qidoMxusC677R7635Yc5iYv8hJyTui6Pq+uAUuJZqj9n3czJQpOcKuaEIiWTtjhprm50JIcNGq1EsEjAI4orpO2rrMVV3SiVta48t2uNdkC27Ew2JznryTcMrr2BtWRzvPBJR9QdgpmZ9WnbTVeze/wakS6CNABFtLaLGx8aEa33EhtAI0BEx3EENCjVi6KNUr0o2ojcF6W+cr3qcVGKI5c3ehzXEXeOuVVW2m6XpVh6HdeOJzq2A7XqFVcplOMuLpWksZUucERpX06RFe0LUOnqqFrjaR1daqd1RbW0jta68yKISqXVx5Ra6VWvSNiLHtrHpP3R6hnSMNoJe0Pt2xvKN3SEyrXaLXfUaZ/S0tgqd2W0+mROG13bVZfj54yM4gL1wu1W+u7WbrXfXu1GvgLY9TxU2+3Sb892pa51O9pWJd7SvsbEWgbJybeZmRlw1IFvZt9f3VZ6x6uUhCmvg9ZjVCTQgdSuWyTcxXHttnIdRSvRVk7M0jHtp/5iXyNfmW31n+u16uRjigQvxVdOPcvJZLFdikfK780X9ZRiispxClRcJRbp6rDSW/UiSolVrqf0tn+7rfwuY6vdyC2Xt8sxtsdQTqmLbKh8TOd2KebcV3rnWaBGPo+NnNs3clD5XU410tiUXl6odVz5caOjDFIbjXLdRoPindf20qi0lV/SFG+r5ji6r/usM+/+0nrBuotoa974+om73/h2sa058S12bHmtwd666+TbzMwMOO3k59YdgpmtAv6iWTMzMzOzEXHybWZmZmY2Ik6+zczMzMxGxMm3mZmZmdmIOPk2MzMzMxsRJ99mZmZmZiPi5NvMzMzMbEScfJuZmZmZjYgiYuFaY0LSNuDmuuMYgUcCW+oOYgQ8zvGzWsa6K+N8TETsN4xglivP2WNntYwTVs9YPc7ees7Zq+0XLm+OiGPrDmLYJF3vcY6P1TJOWD1jXS3jHADP2WNktYwTVs9YPc5d49tOzMzMzMxGxMm3mZmZmdmIrLbk+8N1BzAiHud4WS3jhNUz1tUyzqVaLefJ4xw/q2WsHucuWFUfuDQzMzMzq9Nqu/JtZmZmZlYbJ99mZmZmZiMy9sm3pIMkfVbSVkn3Sfq8pIPrjmuQJJ0q6XOSfiHpIUk3S3q3pEfUHduwSbpCUkg6r+5YhkHScyT9p6T789/v9ZJOqDuuQZL0VElXSrpL0jZJ35f0irrjWgpJB0p6v6TrJD2Y/0Y3dKm3VtL5ku7I/+9eJ+m40Ue8fHjOHm+es1c+z9lLn7PHOvmWtBtwNXAk8GfAy4DDgWskra8ztgE7B5gF3gycBHwQeC1wlaSx/TeW9BLgCXXHMSySXg18Cfge8ALgNOAzwG51xjVIkn4X+CqwBngl8ELgu8DHJL22ztiW6DDgdOAe4Bvz1PsYadxvBU4G7gC+IumJQ49wGfKc7Tl7JfOc7Tm7bxExtgvwOtIEd1ip7BBgJ/D6uuMb4Dj361L2p0AAJ9Qd35DGvDdwJ/CSPM7z6o5pwOPbADwEnF13LEMe57uAHcDulfLrgOvqjm8J42qUHp+V/0Y3VOo8IZe/vFQ2SfpFxy/XPYaazpvnbM/ZK3LxnO05ezH9je0r7Ox5wLcj4paiICI2Ad8CTqktqgGLiLu7FH83rw8YZSwj9F7gxxHxyboDGZJXAE3g4roDGbIp4GHSk1bZVlbwO3MR0eyj2vNIY/906bidwKeAZ0maHlJ4y5nnbM/ZK5XnbM/Zfc/ZK/ZE9elo4Mddym8CjhpxLKN2fF7/tNYohkDS00hXif6y7liG6GnAz4AXS7pV0k5Jt0gatzFfktcXSnq0pL0kvRJ4JnBBfWGNxNHApoh4sFJ+E+kJ7rDRh1Q7z9mes1cqz9mes/uesycHGdUytA/p/p2q35LeAhtLkg4A3g58NSKurzueQZI0BXwI+KeIuLnueIbo0Xk5n3Rf6K2k+wcvkjQZEe+rM7hBiYgfS9oIfAH4i1z8MPCaiPhUbYGNxnzzU7F/tfGc7Tl7pfKc7Tm77zl73JPvVUfS7qQPfOwEXl5zOMPwRmAd8M66AxmyBvAI4MyI+Hwuuzp/+vpNki6MfMPZSibpcOBzpCsHryG9lXkKcLGk7RFxaZ3xmQ2b5+yx4Tnbc3bfxj35vofuV0t6vXpZ0SStAy4DDgWOj4jbaw5poPLXjf096cMQ05X7q6Yl7QVsi4jZWgIcrN+QvuXhqkr5laRvR3gU8KtRBzUE7yJdNTk5Ih7OZV+TtC/wPkmf7PNevJXoHuAxXcqLqye/7bJv3HnOHiOeswHP2eNkYHP2uN/zfRPpHp2qo4CfjDiWoZK0BvgscCzwnIj4Uc0hDcOhwFrgE6T/CYoF0ld33QM8vp7QBu6mBfaPy+T2eODG0iRe+G9gX2D/0Yc0MjcBh+Sv1ys7ivRtArfMPWTsec4eL56z2zxnr3wDm7PHPfn+MvAkSYcWBfktoKfmfWMhfy/spcAJwPMj4ts1hzQsPwCe0WWBNLk/g/FJWL6Q18+qlJ8E3B4Rd444nmG5E3hivi+07A+B7Yz31d/LSN+Ve1pRIGkSeBFwZUTM1BVYjTxnjxfP2Z6zx8nA5uxxv+3kI8BfAV+S9A+k72d8B3Ab6QMg4+IDpD+GdwIPSHpSad/t4/JWZkTcC3y9Wi4J4BcRMWffCnY5cA3wIUmPBH5O+jc+kfG6L/Qi0o9QXCbp30j3Dz6P9F3AF0TEjjqDWwpJp+aHv5/Xz5Z0N3B3RFwbETdI+jTwr/kq6CbSD60cArx09BEvC56zPWevVJ6zPWf3r+4vNh/2AhxM+nDAfcA24ItUvjh9pS/AZtKTVLfl3LrjG8H4x+4HG/K49iA9Sf+a9JbWD4E/qTuuIYzz2aQn6Lvz/6M/IH2KfqLu2JY4rl7/T369VGcd8C+kq0nbge8AG+uOvebz5jl7GcQ45PF7zl7Bi+fspc/Zyo2ZmZmZmdmQjfs932ZmZmZmy4aTbzMzMzOzEXHybWZmZmY2Ik6+zczMzMxGxMm3mZmZmdmIOPk2MzMzMxsRJ99mu0jS2ZJeWGP/myVdUlf/ZmYriedsWy78Pd9mu0jSZuCbEXFGTf3/HnBfRNxaR/9mZiuJ52xbLsb95+VtzEmajoiZuuOoQ0TcUHcMZmaL4TnbzLed2BBJOldSSHq8pGskPSjpDklvl9So1N1P0sWSfilpRtLPJL2qUufM3N5xkj4j6V7ST7sW+4+XdJWkrZIekHSjpD+vtPGqXL5d0hZJH5O0T6VOSDpP0t9I2iRpm6RrJR1dqrMZeAzw0lw/5ns7sTgXXcovyW0V2xtyW6/O5+kOSfdKukzSgZVj57yFKemZkr6fx3drbqfax8bcx8Ye53fDYs+Zma18nrPnnosu5Z6zbcl85dtG4YvAx4F3A88C3gI0gXMBJO0BfBNYl8s25XofVLpK8v5Ke5cCnwROJf8NSzoF+BzwLeDVwBbgaNJkS67zHuANwIXA3wIHAOcBx0h6SkTMlvo4A7gZeB0wBZwPfEnSkRGxE3gBcDlwYzEO4O5dOz1dvQn4L+AVwP7APwOfADb2OkDS43JM1wMvBqZzbLsDs72Om88iz5mZjQfP2YvnOdv6FxFevAxlIU0iAfxdpfwjwDZgr7z9FmA7cHiXeluAybx9Zm7vgko9AZtJE1ijRywbSJPZWyvlT81tPr9UFsD/AmtKZafm8qeUyjYDn1jMuehSfgmwuRJnAF+v1Dsnlz+60v8lpe1L8/laXyo7CNhR6WNjbmtjpY/i/G5Y7Dnz4sXLyl88Z889F13KPWd7WfLi205sFP69sv0p0iv7Y/L2SaS3IjdJmiwW4CvAvsBRleO/UNk+gnS15KMR0ewRwx+TbrO6tNLHd0hPKsdV6l8VEQ+Xtn+U1wf3GuSAXV7Z7qf/JwOXR8QDRUFE3Ea6srQrFnvOzGw8eM5ePM/Z1jffdmKj8Ose2wfk9f7AYcDDdLdvZfuOHvtvnyeG/fP6lj77+G1lu/iA0Np5+hikXen/Ucw91+SyQ3YhhsWeMzMbD56zF89ztvXNybeNwu8AP69sA/wyr38D3EW6V6+bmyvb1Q/BbMnrA+jtN3l9InDPPPuHZTuApKmI2FEqH+RkeAftc1tWLdue11OV8mosdZ8zM6uH52zP2TZETr5tFE4H3lPafjFwP+235a4A/hr4v4i4axfa/x/SvXRnSfpw5JvcKq4ifWDo4Ii4ahf66GaG9IGjfvwir48Bvg8gaS/gKaS3AwfhOuA5ktYXb2NKOoh0v9+vesRyZan8uZX2hnHOzGz585ztOduGyMm3jcIr89dUfZf0ifizgHMjYmvefwHwIuAbki4gXTVZDxwJPD0iTpmv8YgISWcDnweulnQx6VPsjwP2j4i3RcStkt4LXCTpCOBa0tWEg0j3yX00Iq5Z5Lh+Ajxd0snAncCWiNjco+5/AFuBj0h6G+lT7W8kPaENynnAacCVks4nXSU5l8rbmhFxh6RrgTdJ2kK6gnUGcGil3jDOmZktf56zPWfbMNX9iU8v47vQ/uT8McA1wEOkCe8dVD7hDuxNmtA3kT7pfRfwDeDsUp0zc3uH9ejvhNzP/Xm5EXh5pc7LgG8DD+Q6PwUuAg4s1QngvMpxG3L5maWyI3OMD+Z9lyxwPp5GejJ7kHTl5wx6f3L+rMqxG6l82p3KJ+dz2R8BN5Cu8Pyc9BVeHX3kegcClwH35n+Td5GeYFufnF/MOfPixcvKXzxnz4nPc7aXoSz+eXkbGknnAm8jff3TzprDWbXyjzpsjIgNNYdiZsuY5+zlwXP2+PNXDZqZmZmZjYiTbzMzMzOzEfFtJ2ZmZmZmI+Ir32ZmZmZmI+Lk28zMzMxsRJx8m5mZmZmNiJNvMzMzM7MRcfJtZmZmZjYi/w8rwQE8RgSkRwAAAABJRU5ErkJggg==\n",
      "text/plain": [
       "<Figure size 864x288 with 2 Axes>"
      ]
     },
     "metadata": {
      "needs_background": "light"
     },
     "output_type": "display_data"
    }
   ],
   "source": [
    "#Q15\n",
    "fig, (ax1,ax2) = plt.subplots(nrows=1,ncols=2,figsize=(12,4),sharey=True)\n",
    "version1.T.plot.line(ax=ax1,legend=False, xticks=range(0,11,2))\n",
    "ax1.set_title('Version 2')\n",
    "ax1.set_ylabel('time (s)')\n",
    "ax1.set_xlabel('percent unique')\n",
    "\n",
    "version2.T.plot.line(ax=ax2, xticks=range(0,11,2))\n",
    "ax2.set_title('Version 3')\n",
    "ax2.set_ylabel('time (s)')\n",
    "ax2.set_xlabel('percent unique')"
   ]
  },
  {
   "cell_type": "code",
   "execution_count": 82,
   "metadata": {},
   "outputs": [],
   "source": [
    "#The graphs using total words on the x-axis are a better representation of the efficiency of each version. Efficiency is \n",
    "#a measure of amount of work done over a certain fixed period of time. The graphs in Q14 are better able to show the \n",
    "#magnitude of work being done by the two versions over this fixed period. Percent uniquness is not necessarily dependent \n",
    "#on the size of the set of total words. If the set of words is generated randomly, it should follow that percent uniquness would\n",
    "#not change drastically as the size of the set grows. The complexity is better displayed in 14."
   ]
  },
  {
   "cell_type": "code",
   "execution_count": null,
   "metadata": {},
   "outputs": [],
   "source": []
  }
 ],
 "metadata": {
  "kernelspec": {
   "display_name": "Python 3",
   "language": "python",
   "name": "python3"
  },
  "language_info": {
   "codemirror_mode": {
    "name": "ipython",
    "version": 3
   },
   "file_extension": ".py",
   "mimetype": "text/x-python",
   "name": "python",
   "nbconvert_exporter": "python",
   "pygments_lexer": "ipython3",
   "version": "3.6.9"
  }
 },
 "nbformat": 4,
 "nbformat_minor": 4
}
